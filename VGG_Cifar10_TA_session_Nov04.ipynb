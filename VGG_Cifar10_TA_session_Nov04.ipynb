{
  "nbformat": 4,
  "nbformat_minor": 0,
  "metadata": {
    "colab": {
      "name": "VGG_Cifar10_TA_session_Nov04.ipynb",
      "provenance": [],
      "collapsed_sections": [],
      "include_colab_link": true
    },
    "kernelspec": {
      "name": "python3",
      "display_name": "Python 3"
    },
    "language_info": {
      "name": "python"
    },
    "accelerator": "GPU",
    "widgets": {
      "application/vnd.jupyter.widget-state+json": {
        "cfa7989d90ea490596aa3c06a84b3237": {
          "model_module": "@jupyter-widgets/controls",
          "model_name": "HBoxModel",
          "model_module_version": "1.5.0",
          "state": {
            "_view_name": "HBoxView",
            "_dom_classes": [],
            "_model_name": "HBoxModel",
            "_view_module": "@jupyter-widgets/controls",
            "_model_module_version": "1.5.0",
            "_view_count": null,
            "_view_module_version": "1.5.0",
            "box_style": "",
            "layout": "IPY_MODEL_02bc2a2f6c1540a4a28febce4c607351",
            "_model_module": "@jupyter-widgets/controls",
            "children": [
              "IPY_MODEL_5fdf2640a9434fe798d4a41d3c017e75",
              "IPY_MODEL_9b6026dd2647453ebee3bd5c0238ebf0",
              "IPY_MODEL_17feca41baac49e28b71aa00b82904a8"
            ]
          }
        },
        "02bc2a2f6c1540a4a28febce4c607351": {
          "model_module": "@jupyter-widgets/base",
          "model_name": "LayoutModel",
          "model_module_version": "1.2.0",
          "state": {
            "_view_name": "LayoutView",
            "grid_template_rows": null,
            "right": null,
            "justify_content": null,
            "_view_module": "@jupyter-widgets/base",
            "overflow": null,
            "_model_module_version": "1.2.0",
            "_view_count": null,
            "flex_flow": null,
            "width": null,
            "min_width": null,
            "border": null,
            "align_items": null,
            "bottom": null,
            "_model_module": "@jupyter-widgets/base",
            "top": null,
            "grid_column": null,
            "overflow_y": null,
            "overflow_x": null,
            "grid_auto_flow": null,
            "grid_area": null,
            "grid_template_columns": null,
            "flex": null,
            "_model_name": "LayoutModel",
            "justify_items": null,
            "grid_row": null,
            "max_height": null,
            "align_content": null,
            "visibility": null,
            "align_self": null,
            "height": null,
            "min_height": null,
            "padding": null,
            "grid_auto_rows": null,
            "grid_gap": null,
            "max_width": null,
            "order": null,
            "_view_module_version": "1.2.0",
            "grid_template_areas": null,
            "object_position": null,
            "object_fit": null,
            "grid_auto_columns": null,
            "margin": null,
            "display": null,
            "left": null
          }
        },
        "5fdf2640a9434fe798d4a41d3c017e75": {
          "model_module": "@jupyter-widgets/controls",
          "model_name": "HTMLModel",
          "model_module_version": "1.5.0",
          "state": {
            "_view_name": "HTMLView",
            "style": "IPY_MODEL_dbfac28e0c114e24a36fe6a68f9a408a",
            "_dom_classes": [],
            "description": "",
            "_model_name": "HTMLModel",
            "placeholder": "​",
            "_view_module": "@jupyter-widgets/controls",
            "_model_module_version": "1.5.0",
            "value": "",
            "_view_count": null,
            "_view_module_version": "1.5.0",
            "description_tooltip": null,
            "_model_module": "@jupyter-widgets/controls",
            "layout": "IPY_MODEL_b3af08009f844785949381332d47e106"
          }
        },
        "9b6026dd2647453ebee3bd5c0238ebf0": {
          "model_module": "@jupyter-widgets/controls",
          "model_name": "FloatProgressModel",
          "model_module_version": "1.5.0",
          "state": {
            "_view_name": "ProgressView",
            "style": "IPY_MODEL_7905669520774273912015807a5811e7",
            "_dom_classes": [],
            "description": "",
            "_model_name": "FloatProgressModel",
            "bar_style": "success",
            "max": 170498071,
            "_view_module": "@jupyter-widgets/controls",
            "_model_module_version": "1.5.0",
            "value": 170498071,
            "_view_count": null,
            "_view_module_version": "1.5.0",
            "orientation": "horizontal",
            "min": 0,
            "description_tooltip": null,
            "_model_module": "@jupyter-widgets/controls",
            "layout": "IPY_MODEL_7728529a729d43889d7a2a9df077dac9"
          }
        },
        "17feca41baac49e28b71aa00b82904a8": {
          "model_module": "@jupyter-widgets/controls",
          "model_name": "HTMLModel",
          "model_module_version": "1.5.0",
          "state": {
            "_view_name": "HTMLView",
            "style": "IPY_MODEL_dd51931b20894a1a8eb38d8288ca776d",
            "_dom_classes": [],
            "description": "",
            "_model_name": "HTMLModel",
            "placeholder": "​",
            "_view_module": "@jupyter-widgets/controls",
            "_model_module_version": "1.5.0",
            "value": " 170499072/? [00:11&lt;00:00, 17415576.82it/s]",
            "_view_count": null,
            "_view_module_version": "1.5.0",
            "description_tooltip": null,
            "_model_module": "@jupyter-widgets/controls",
            "layout": "IPY_MODEL_c12ebc36dbf84f008b4e8d530670e4cd"
          }
        },
        "dbfac28e0c114e24a36fe6a68f9a408a": {
          "model_module": "@jupyter-widgets/controls",
          "model_name": "DescriptionStyleModel",
          "model_module_version": "1.5.0",
          "state": {
            "_view_name": "StyleView",
            "_model_name": "DescriptionStyleModel",
            "description_width": "",
            "_view_module": "@jupyter-widgets/base",
            "_model_module_version": "1.5.0",
            "_view_count": null,
            "_view_module_version": "1.2.0",
            "_model_module": "@jupyter-widgets/controls"
          }
        },
        "b3af08009f844785949381332d47e106": {
          "model_module": "@jupyter-widgets/base",
          "model_name": "LayoutModel",
          "model_module_version": "1.2.0",
          "state": {
            "_view_name": "LayoutView",
            "grid_template_rows": null,
            "right": null,
            "justify_content": null,
            "_view_module": "@jupyter-widgets/base",
            "overflow": null,
            "_model_module_version": "1.2.0",
            "_view_count": null,
            "flex_flow": null,
            "width": null,
            "min_width": null,
            "border": null,
            "align_items": null,
            "bottom": null,
            "_model_module": "@jupyter-widgets/base",
            "top": null,
            "grid_column": null,
            "overflow_y": null,
            "overflow_x": null,
            "grid_auto_flow": null,
            "grid_area": null,
            "grid_template_columns": null,
            "flex": null,
            "_model_name": "LayoutModel",
            "justify_items": null,
            "grid_row": null,
            "max_height": null,
            "align_content": null,
            "visibility": null,
            "align_self": null,
            "height": null,
            "min_height": null,
            "padding": null,
            "grid_auto_rows": null,
            "grid_gap": null,
            "max_width": null,
            "order": null,
            "_view_module_version": "1.2.0",
            "grid_template_areas": null,
            "object_position": null,
            "object_fit": null,
            "grid_auto_columns": null,
            "margin": null,
            "display": null,
            "left": null
          }
        },
        "7905669520774273912015807a5811e7": {
          "model_module": "@jupyter-widgets/controls",
          "model_name": "ProgressStyleModel",
          "model_module_version": "1.5.0",
          "state": {
            "_view_name": "StyleView",
            "_model_name": "ProgressStyleModel",
            "description_width": "",
            "_view_module": "@jupyter-widgets/base",
            "_model_module_version": "1.5.0",
            "_view_count": null,
            "_view_module_version": "1.2.0",
            "bar_color": null,
            "_model_module": "@jupyter-widgets/controls"
          }
        },
        "7728529a729d43889d7a2a9df077dac9": {
          "model_module": "@jupyter-widgets/base",
          "model_name": "LayoutModel",
          "model_module_version": "1.2.0",
          "state": {
            "_view_name": "LayoutView",
            "grid_template_rows": null,
            "right": null,
            "justify_content": null,
            "_view_module": "@jupyter-widgets/base",
            "overflow": null,
            "_model_module_version": "1.2.0",
            "_view_count": null,
            "flex_flow": null,
            "width": null,
            "min_width": null,
            "border": null,
            "align_items": null,
            "bottom": null,
            "_model_module": "@jupyter-widgets/base",
            "top": null,
            "grid_column": null,
            "overflow_y": null,
            "overflow_x": null,
            "grid_auto_flow": null,
            "grid_area": null,
            "grid_template_columns": null,
            "flex": null,
            "_model_name": "LayoutModel",
            "justify_items": null,
            "grid_row": null,
            "max_height": null,
            "align_content": null,
            "visibility": null,
            "align_self": null,
            "height": null,
            "min_height": null,
            "padding": null,
            "grid_auto_rows": null,
            "grid_gap": null,
            "max_width": null,
            "order": null,
            "_view_module_version": "1.2.0",
            "grid_template_areas": null,
            "object_position": null,
            "object_fit": null,
            "grid_auto_columns": null,
            "margin": null,
            "display": null,
            "left": null
          }
        },
        "dd51931b20894a1a8eb38d8288ca776d": {
          "model_module": "@jupyter-widgets/controls",
          "model_name": "DescriptionStyleModel",
          "model_module_version": "1.5.0",
          "state": {
            "_view_name": "StyleView",
            "_model_name": "DescriptionStyleModel",
            "description_width": "",
            "_view_module": "@jupyter-widgets/base",
            "_model_module_version": "1.5.0",
            "_view_count": null,
            "_view_module_version": "1.2.0",
            "_model_module": "@jupyter-widgets/controls"
          }
        },
        "c12ebc36dbf84f008b4e8d530670e4cd": {
          "model_module": "@jupyter-widgets/base",
          "model_name": "LayoutModel",
          "model_module_version": "1.2.0",
          "state": {
            "_view_name": "LayoutView",
            "grid_template_rows": null,
            "right": null,
            "justify_content": null,
            "_view_module": "@jupyter-widgets/base",
            "overflow": null,
            "_model_module_version": "1.2.0",
            "_view_count": null,
            "flex_flow": null,
            "width": null,
            "min_width": null,
            "border": null,
            "align_items": null,
            "bottom": null,
            "_model_module": "@jupyter-widgets/base",
            "top": null,
            "grid_column": null,
            "overflow_y": null,
            "overflow_x": null,
            "grid_auto_flow": null,
            "grid_area": null,
            "grid_template_columns": null,
            "flex": null,
            "_model_name": "LayoutModel",
            "justify_items": null,
            "grid_row": null,
            "max_height": null,
            "align_content": null,
            "visibility": null,
            "align_self": null,
            "height": null,
            "min_height": null,
            "padding": null,
            "grid_auto_rows": null,
            "grid_gap": null,
            "max_width": null,
            "order": null,
            "_view_module_version": "1.2.0",
            "grid_template_areas": null,
            "object_position": null,
            "object_fit": null,
            "grid_auto_columns": null,
            "margin": null,
            "display": null,
            "left": null
          }
        }
      }
    }
  },
  "cells": [
    {
      "cell_type": "markdown",
      "metadata": {
        "id": "view-in-github",
        "colab_type": "text"
      },
      "source": [
        "<a href=\"https://colab.research.google.com/github/vinodnbhat/AIML_CEP_2021/blob/main/VGG_Cifar10_TA_session_Nov04.ipynb\" target=\"_parent\"><img src=\"https://colab.research.google.com/assets/colab-badge.svg\" alt=\"Open In Colab\"/></a>"
      ]
    },
    {
      "cell_type": "code",
      "metadata": {
        "id": "XMoALh6BmYBW"
      },
      "source": [
        "#Imort the required libraries\n",
        "import torch\n",
        "import torch.nn as nn\n",
        "import torch.nn.functional as F\n",
        "import torch.optim as optim\n",
        "import torch.utils.data as data\n",
        "import torch.optim.lr_scheduler as lr_scheduler\n",
        "\n",
        "import torchvision.transforms as transforms\n",
        "import torchvision.datasets as datasets\n",
        "\n",
        "import matplotlib.pyplot as plt\n",
        "import numpy as np\n",
        "import random\n",
        "import time"
      ],
      "execution_count": null,
      "outputs": []
    },
    {
      "cell_type": "code",
      "metadata": {
        "id": "GaGmMYCD1upD"
      },
      "source": [
        "SEED = 1234\n",
        "random.seed(SEED)\n",
        "np.random.seed(SEED)\n",
        "torch.manual_seed(SEED)\n",
        "torch.cuda.manual_seed(SEED)"
      ],
      "execution_count": null,
      "outputs": []
    },
    {
      "cell_type": "code",
      "metadata": {
        "id": "WxN5-L6Z1upQ",
        "colab": {
          "base_uri": "https://localhost:8080/",
          "height": 118,
          "referenced_widgets": [
            "cfa7989d90ea490596aa3c06a84b3237",
            "02bc2a2f6c1540a4a28febce4c607351",
            "5fdf2640a9434fe798d4a41d3c017e75",
            "9b6026dd2647453ebee3bd5c0238ebf0",
            "17feca41baac49e28b71aa00b82904a8",
            "dbfac28e0c114e24a36fe6a68f9a408a",
            "b3af08009f844785949381332d47e106",
            "7905669520774273912015807a5811e7",
            "7728529a729d43889d7a2a9df077dac9",
            "dd51931b20894a1a8eb38d8288ca776d",
            "c12ebc36dbf84f008b4e8d530670e4cd"
          ]
        },
        "outputId": "7cc85d38-629f-4c9e-aca2-07abc500b357"
      },
      "source": [
        "ROOT = '.data'\n",
        "\n",
        "#downloading cifar10 dataset from torchvision.datasets\n",
        "train_data = datasets.CIFAR10(root = ROOT, \n",
        "                             train = True, \n",
        "                             download = True)\n",
        "\n",
        "mean = train_data.data.mean() / 255\n",
        "std = train_data.data.std() / 255\n",
        "\n",
        "print(f'Calculated mean: {mean}')\n",
        "print(f'Calculated std: {std}')\n"
      ],
      "execution_count": null,
      "outputs": [
        {
          "output_type": "stream",
          "name": "stdout",
          "text": [
            "Downloading https://www.cs.toronto.edu/~kriz/cifar-10-python.tar.gz to .data/cifar-10-python.tar.gz\n"
          ]
        },
        {
          "output_type": "display_data",
          "data": {
            "application/vnd.jupyter.widget-view+json": {
              "model_id": "cfa7989d90ea490596aa3c06a84b3237",
              "version_minor": 0,
              "version_major": 2
            },
            "text/plain": [
              "  0%|          | 0/170498071 [00:00<?, ?it/s]"
            ]
          },
          "metadata": {}
        },
        {
          "output_type": "stream",
          "name": "stdout",
          "text": [
            "Extracting .data/cifar-10-python.tar.gz to .data\n",
            "Calculated mean: 0.4733630004850899\n",
            "Calculated std: 0.2515689250632208\n"
          ]
        }
      ]
    },
    {
      "cell_type": "code",
      "metadata": {
        "id": "iavK-kzI1upc",
        "colab": {
          "base_uri": "https://localhost:8080/"
        },
        "outputId": "0e3b908a-7e50-4cad-82f5-9a9fb31a2b0e"
      },
      "source": [
        "print(train_data.data.shape)"
      ],
      "execution_count": null,
      "outputs": [
        {
          "output_type": "stream",
          "name": "stdout",
          "text": [
            "(50000, 32, 32, 3)\n"
          ]
        }
      ]
    },
    {
      "cell_type": "code",
      "metadata": {
        "id": "6CpfULO31upj"
      },
      "source": [
        "train_transforms = transforms.Compose([\n",
        "                            transforms.ToTensor(),\n",
        "                            transforms.Normalize(mean = [mean], std = [std])\n",
        "                                      ])\n",
        "\n",
        "test_transforms = transforms.Compose([\n",
        "                           transforms.ToTensor(),\n",
        "                           transforms.Normalize(mean = [mean], std = [std])\n",
        "                                     ])"
      ],
      "execution_count": null,
      "outputs": []
    },
    {
      "cell_type": "code",
      "metadata": {
        "id": "05M-wSsD1upr",
        "colab": {
          "base_uri": "https://localhost:8080/"
        },
        "outputId": "58c562ba-77ab-4296-a1a4-ce46865bc9fc"
      },
      "source": [
        "train_set = datasets.CIFAR10(root = ROOT, \n",
        "                            train = True, \n",
        "                            download = True, \n",
        "                            transform = train_transforms)\n",
        "\n",
        "test_set = datasets.CIFAR10(root = ROOT, \n",
        "                           train = False, \n",
        "                           download = True, \n",
        "                           transform = test_transforms)"
      ],
      "execution_count": null,
      "outputs": [
        {
          "output_type": "stream",
          "name": "stdout",
          "text": [
            "Files already downloaded and verified\n",
            "Files already downloaded and verified\n"
          ]
        }
      ]
    },
    {
      "cell_type": "code",
      "metadata": {
        "id": "QRnxwhfI1up3",
        "colab": {
          "base_uri": "https://localhost:8080/"
        },
        "outputId": "5c3114b6-a629-464b-e2e0-70449e95fa1a"
      },
      "source": [
        "print(train_set.data.shape)"
      ],
      "execution_count": null,
      "outputs": [
        {
          "output_type": "stream",
          "name": "stdout",
          "text": [
            "(50000, 32, 32, 3)\n"
          ]
        }
      ]
    },
    {
      "cell_type": "code",
      "metadata": {
        "id": "D6_al7YF1up-",
        "colab": {
          "base_uri": "https://localhost:8080/"
        },
        "outputId": "67884de2-ab9a-4296-8077-ae5e4e0db419"
      },
      "source": [
        "print(test_set.data.shape)"
      ],
      "execution_count": null,
      "outputs": [
        {
          "output_type": "stream",
          "name": "stdout",
          "text": [
            "(10000, 32, 32, 3)\n"
          ]
        }
      ]
    },
    {
      "cell_type": "code",
      "metadata": {
        "id": "xsBkZWwt1uqE",
        "colab": {
          "base_uri": "https://localhost:8080/"
        },
        "outputId": "f602026c-1ec4-4688-e053-d818cbe86951"
      },
      "source": [
        "print(f'Number of training examples: {len(train_set)}')\n",
        "print(f'Number of testing examples: {len(test_set)}')"
      ],
      "execution_count": null,
      "outputs": [
        {
          "output_type": "stream",
          "name": "stdout",
          "text": [
            "Number of training examples: 50000\n",
            "Number of testing examples: 10000\n"
          ]
        }
      ]
    },
    {
      "cell_type": "markdown",
      "metadata": {
        "id": "Cy93Ki9VqRQM"
      },
      "source": [
        "This dataset also contains 10 classes namely airplane, automobile, bird, cat,deer, dog, frog, horse, ship, truck, with 6000 images per class."
      ]
    },
    {
      "cell_type": "code",
      "metadata": {
        "id": "IrtnwVYVPMkn"
      },
      "source": [
        "batch_size = 64\n",
        "\n",
        "#iterators for shuffling and loading data in batches \n",
        "train_loader = data.DataLoader(train_set, \n",
        "                               shuffle = True, \n",
        "                               batch_size = batch_size)\n",
        "\n",
        "test_loader = data.DataLoader(test_set,\n",
        "                              batch_size = batch_size)"
      ],
      "execution_count": null,
      "outputs": []
    },
    {
      "cell_type": "code",
      "metadata": {
        "id": "ITOaZdQTnT2N",
        "colab": {
          "base_uri": "https://localhost:8080/"
        },
        "outputId": "e6c01ed8-59e1-4bc7-b11e-cf041eb9be1f"
      },
      "source": [
        "# Checking the batch dimensions \n",
        "for images, labels in train_loader:  \n",
        "    print('Image batch dimensions:', images.shape)\n",
        "    print('Image label dimensions:', labels.shape)\n",
        "    # print (labels.shape[0])\n",
        "    break"
      ],
      "execution_count": null,
      "outputs": [
        {
          "output_type": "stream",
          "name": "stdout",
          "text": [
            "Image batch dimensions: torch.Size([64, 3, 32, 32])\n",
            "Image label dimensions: torch.Size([64])\n"
          ]
        }
      ]
    },
    {
      "cell_type": "code",
      "metadata": {
        "id": "T8qhbCCUmvQk"
      },
      "source": [
        "### Model settings###\n",
        "\n",
        "# Hyperparameters\n",
        "learning_rate = 0.01\n",
        "\n",
        "# Architecture\n",
        "num_classes = 10\n"
      ],
      "execution_count": null,
      "outputs": []
    },
    {
      "cell_type": "markdown",
      "metadata": {
        "id": "qrr_4PkdnMv4"
      },
      "source": [
        "<h2>VGG Net Architecture</h2>\n",
        "<h3>Since our input image size is small, we can use fewer number of channels</h3>\n",
        "<img src=\"https://1.bp.blogspot.com/-bHgaNqUKkR0/WarxZecuxbI/AAAAAAAATyk/7ABN8gZ-H7gdJ6sgU8rNYpR06LwMjWVTwCLcBGAs/s1600/The%2BVGG%2BNet%2BArchitecture%2B-%2BVGG16%2B-%2BHorizontal.png\" alt=\"VGG NET\" width=\"1024\" height=\"515\">                              "
      ]
    },
    {
      "cell_type": "markdown",
      "metadata": {
        "id": "hxl-KI-T58Js"
      },
      "source": [
        "$\\Large{\\text{Summary of single convolution layer}:}$\n",
        "\n",
        "**Input:** Image of size $W_1 \\times H_1 \\times D_1$.\n",
        "\n",
        "**Hyperparameters:** K = number of filters, F = Filter size, S = number of strides, P = amount of zero padding. \n",
        "\n",
        "Note that the conventional values of $F, S$ and $P$ are 3, 1 and 1 respectively. However you are free to use any other numbers also. \n",
        "\n",
        "**Output:** Image of size $W_2 \\times H_2 \\times D_2$\n",
        "\n",
        "\n",
        "\n",
        "*   $W_2 = \\frac{W_1 - F + 2P}{S} + 1$,\n",
        "*   $H_2 = \\frac{H_1 - F + 2P}{S} + 1$,\n",
        "*   $D_2 = K$.\n",
        "\n",
        "**Number of shared weights:** \n",
        "\n",
        "\n",
        "*   Per filter weights = $F \\times F \\times D_1$,\n",
        "*   weights for $K$ filters with bias = $(F \\times F \\times D_1)K + K$.\n",
        "\n",
        "For more details, please refer to the following link:\n",
        "\n",
        "[Convolution Neural Networks](https://cs231n.github.io/convolutional-networks/#layers)\n",
        "\n",
        "\n",
        "\n",
        "\n"
      ]
    },
    {
      "cell_type": "code",
      "metadata": {
        "id": "cnrbVECwnMv6"
      },
      "source": [
        "class VGG(nn.Module):  \n",
        "    \n",
        "    def two_conv_pool(self, in_channels, f1, f2):\n",
        "        s = nn.Sequential(\n",
        "            nn.Conv2d(in_channels, f1, kernel_size=3, stride=1, padding=1),\n",
        "            nn.BatchNorm2d(f1),\n",
        "            nn.ReLU(inplace=True),\n",
        "            nn.Conv2d(f1, f2, kernel_size=3, stride=1, padding=1), \n",
        "            nn.BatchNorm2d(f2),\n",
        "            nn.ReLU(inplace=True),\n",
        "            nn.MaxPool2d(kernel_size=2, stride=2), \n",
        "        )\n",
        "        return s\n",
        "    \n",
        "    def three_conv_pool(self,in_channels, f1, f2, f3):\n",
        "        s = nn.Sequential(\n",
        "            nn.Conv2d(in_channels, f1, kernel_size=3, stride=1, padding=1),\n",
        "            nn.BatchNorm2d(f1),\n",
        "            nn.ReLU(inplace=True),\n",
        "            nn.Conv2d(f1, f2, kernel_size=3, stride=1, padding=1),\n",
        "            nn.BatchNorm2d(f2),\n",
        "            nn.ReLU(inplace=True),\n",
        "            nn.Conv2d(f2, f3, kernel_size=3, stride=1, padding=1),\n",
        "            nn.BatchNorm2d(f3),\n",
        "            nn.ReLU(inplace=True),\n",
        "            nn.MaxPool2d(kernel_size=2, stride=2),\n",
        "        )\n",
        "        return s\n",
        "    \n",
        "    def __init__(self, num_classes=10):\n",
        "        super(VGG, self).__init__()\n",
        "        self.l1 = self.two_conv_pool(3, 16, 16)             #32x32x3 => 32x32x(f1=16) => 32x32x(f2=16) => 16x16x(f2=16) \n",
        "        self.l2 = self.two_conv_pool(16, 32, 32)            #16x16x16 => 16x16x(f1=32) => 16x16x(f2=32) => 8x8x(f2=32) \n",
        "        self.l3 = self.three_conv_pool(32, 64, 64, 64)      #8x8x32 => 8x8x64 => 8x8x64 => 8x8x64=> 4x4x64\n",
        "        self.l4 = self.three_conv_pool(64, 64, 64, 64)      #4x4x64 => 4x4x64 => 4x4x64 => 4x4x64 => 2x2x64\n",
        "\n",
        "        self.classifier = nn.Sequential(\n",
        "            nn.Linear(64 * 2 * 2, 32),\n",
        "            nn.BatchNorm1d(32),\n",
        "            nn.ReLU(inplace=True),\n",
        "            nn.Dropout(p = 0.5),\n",
        "            nn.Linear(32, num_classes),\n",
        "        )\n",
        "    \n",
        "    def forward(self, x):\n",
        "        x = self.l1(x)\n",
        "        x = self.l2(x)\n",
        "        x = self.l3(x)\n",
        "        x = self.l4(x)\n",
        "        x = x.view(x.size(0), -1)\n",
        "        x = self.classifier(x)\n",
        "        logits = x\n",
        "        probas = F.log_softmax(x, dim=1)  \n",
        "        return logits, probas"
      ],
      "execution_count": null,
      "outputs": []
    },
    {
      "cell_type": "code",
      "metadata": {
        "id": "KbTgt7G7nMwA"
      },
      "source": [
        "# Initialize the model\n",
        "model = VGG()\n",
        "#_ = model.apply(init_weights)"
      ],
      "execution_count": null,
      "outputs": []
    },
    {
      "cell_type": "code",
      "metadata": {
        "id": "6O4Y6IypnMwG",
        "colab": {
          "base_uri": "https://localhost:8080/"
        },
        "outputId": "9777ba3a-30f6-4cca-9a99-3df9663587d0"
      },
      "source": [
        "def count_parameters(model):\n",
        "    return sum(p.numel() for p in model.parameters() if p.requires_grad)\n",
        "\n",
        "print(f'The model has {count_parameters(model):,} trainable parameters')"
      ],
      "execution_count": null,
      "outputs": [
        {
          "output_type": "stream",
          "name": "stdout",
          "text": [
            "The model has 229,370 trainable parameters\n"
          ]
        }
      ]
    },
    {
      "cell_type": "code",
      "metadata": {
        "id": "R-_No-UYnMwM"
      },
      "source": [
        "optimizer = optim.Adam(model.parameters())"
      ],
      "execution_count": null,
      "outputs": []
    },
    {
      "cell_type": "code",
      "metadata": {
        "id": "1J-H54LjnMwV"
      },
      "source": [
        "lossfn = nn.CrossEntropyLoss()"
      ],
      "execution_count": null,
      "outputs": []
    },
    {
      "cell_type": "code",
      "metadata": {
        "id": "bHRF8cNLnMwa",
        "colab": {
          "base_uri": "https://localhost:8080/"
        },
        "outputId": "f1c8a7e2-61f9-4bc3-e1d7-2b6db1dea779"
      },
      "source": [
        "if torch.cuda.is_available():\n",
        "  print('cuda available! using cuda..')\n",
        "else:\n",
        "  print('cuda not available! using cpu..')    \n",
        "device = torch.device('cuda' if torch.cuda.is_available() else 'cpu')"
      ],
      "execution_count": null,
      "outputs": [
        {
          "output_type": "stream",
          "name": "stdout",
          "text": [
            "cuda available! using cuda..\n"
          ]
        }
      ]
    },
    {
      "cell_type": "code",
      "metadata": {
        "id": "6fxTIznEnMwf"
      },
      "source": [
        "model = model.to(device)\n",
        "lossfn = lossfn.to(device)"
      ],
      "execution_count": null,
      "outputs": []
    },
    {
      "cell_type": "code",
      "metadata": {
        "id": "PKh3QJKWnMwj"
      },
      "source": [
        "def calculate_accuracy(y_pred, y):\n",
        "    top_pred = y_pred.argmax(1, keepdim = True)\n",
        "    correct = top_pred.eq(y.view_as(top_pred)).sum()\n",
        "    acc = correct.float() / y.shape[0]\n",
        "    return acc"
      ],
      "execution_count": null,
      "outputs": []
    },
    {
      "cell_type": "code",
      "metadata": {
        "id": "g40KnAXpnMwu"
      },
      "source": [
        "def train(model, iterator, optimizer, criterion, device):\n",
        "    \n",
        "    epoch_loss = 0\n",
        "    epoch_acc = 0\n",
        "    \n",
        "    model.train()\n",
        "    \n",
        "    for (x, y) in iterator:\n",
        "        \n",
        "        x = x.to(device)\n",
        "        y = y.to(device)\n",
        "        \n",
        "        optimizer.zero_grad()\n",
        "                \n",
        "        y_pred_logits, y_pred_probas = model(x)\n",
        "        \n",
        "        loss = lossfn(y_pred_logits, y)\n",
        "        \n",
        "        acc = calculate_accuracy(y_pred_probas, y)\n",
        "        \n",
        "        loss.backward()\n",
        "        \n",
        "        optimizer.step()\n",
        "        \n",
        "        epoch_loss += loss.item()\n",
        "        epoch_acc += acc.item()\n",
        "        \n",
        "    return epoch_loss / len(iterator), epoch_acc / len(iterator)"
      ],
      "execution_count": null,
      "outputs": []
    },
    {
      "cell_type": "code",
      "metadata": {
        "id": "vDF2mvC5nMw3"
      },
      "source": [
        "def evaluate(model, iterator, criterion, device):\n",
        "    \n",
        "    epoch_loss = 0\n",
        "    epoch_acc = 0\n",
        "    \n",
        "    model.eval()\n",
        "    \n",
        "    with torch.no_grad():\n",
        "        \n",
        "        for (x, y) in iterator:\n",
        "\n",
        "            x = x.to(device)\n",
        "            y = y.to(device)\n",
        "\n",
        "            y_pred_logits, y_pred_probas = model(x)\n",
        "\n",
        "            loss = lossfn(y_pred_logits, y)\n",
        "\n",
        "            acc = calculate_accuracy(y_pred_probas, y)\n",
        "\n",
        "            epoch_loss += loss.item()\n",
        "            epoch_acc += acc.item()\n",
        "        \n",
        "    return epoch_loss / len(iterator), epoch_acc / len(iterator)"
      ],
      "execution_count": null,
      "outputs": []
    },
    {
      "cell_type": "code",
      "metadata": {
        "id": "n-6l1qbjnMw8"
      },
      "source": [
        "def epoch_time(start_time, end_time):\n",
        "    elapsed_time = end_time - start_time\n",
        "    elapsed_mins = int(elapsed_time / 60)\n",
        "    elapsed_secs = int(elapsed_time - (elapsed_mins * 60))\n",
        "    return elapsed_mins, elapsed_secs"
      ],
      "execution_count": null,
      "outputs": []
    },
    {
      "cell_type": "code",
      "metadata": {
        "colab": {
          "base_uri": "https://localhost:8080/"
        },
        "id": "CAy-3vYyTauo",
        "outputId": "0b43dbd3-6d17-4ee2-efc0-54d7850ed562"
      },
      "source": [
        "save_model = False\n",
        "EPOCHS = 40\n",
        "\n",
        "patience_early_stopping = 3  #training will stop if model performance does not improve for these many consecutive epochs\n",
        "count = 0 #counter for checking patience level\n",
        "\n",
        "prev_test_acc = 0 #initializing prev test accuracy for early stopping condition\n",
        "\n",
        "scheduler = lr_scheduler.ReduceLROnPlateau(optimizer, mode = 'max', factor = 0.2, patience = 1) #learning rate scheduler, update learning rate by \n",
        "#factor of 0.2 if test accuracy does not improve for patience+1 consecutive epochs\n",
        "\n",
        "for epoch in range(EPOCHS):\n",
        "    print(\"\\nLearning rate for epoch {0}: {1}\".format(epoch+1, optimizer.state_dict()['param_groups'][0]['lr']))\n",
        "    start_time = time.perf_counter()\n",
        "    \n",
        "    train_loss, train_acc = train(model, train_loader, optimizer, lossfn, device)\n",
        "\n",
        "    if save_model:\n",
        "        torch.save(model.state_dict(), 'vgg_model.pt')\n",
        "    \n",
        "    if epoch%1==0: #for every epoch we shall compute the test accuracy\n",
        "        test_loss, test_acc = evaluate(model, test_loader, lossfn, device)\n",
        "        \n",
        "        if test_acc > prev_test_acc: #check if test accuracy for current epoch has improved compared to previous epoch\n",
        "          count = 0     #if accuracy improves reset counter to 0                   \n",
        "        else:                        \n",
        "          count += 1    #otherwise increment current counter\n",
        "\n",
        "        prev_test_acc = test_acc\n",
        "\n",
        "    \n",
        "    scheduler.step(test_acc) #updates learning rate\n",
        "    \n",
        "    end_time = time.perf_counter()\n",
        "    epoch_mins, epoch_secs = epoch_time(start_time, end_time)\n",
        "    \n",
        "    print(f'Epoch: {epoch+1:2} | Epoch Time: {epoch_mins}m {epoch_secs}s')\n",
        "    print(f'\\tTrain Loss: {train_loss:.3f} | Train Acc: {train_acc*100:.2f}%')\n",
        "    if epoch%1==0: #for every epoch we shall print the test loss and test accuracy \n",
        "        print(f'\\t Test Loss: {test_loss:.3f} |  Test Acc: {test_acc*100:.2f}%')\n",
        "\n",
        "    if count == patience_early_stopping:\n",
        "      print(f\"Early stopping as test accuracy did not improve for {patience_early_stopping} consecutive epochs\")\n",
        "      break"
      ],
      "execution_count": null,
      "outputs": [
        {
          "output_type": "stream",
          "name": "stdout",
          "text": [
            "\n",
            "Learning rate for epoch 1: 0.001\n",
            "Epoch:  1 | Epoch Time: 0m 44s\n",
            "\tTrain Loss: 1.609 | Train Acc: 42.36%\n",
            "\t Test Loss: 1.219 |  Test Acc: 57.68%\n",
            "\n",
            "Learning rate for epoch 2: 0.001\n",
            "Epoch:  2 | Epoch Time: 0m 43s\n",
            "\tTrain Loss: 1.166 | Train Acc: 60.55%\n",
            "\t Test Loss: 1.000 |  Test Acc: 64.72%\n",
            "\n",
            "Learning rate for epoch 3: 0.001\n",
            "Epoch:  3 | Epoch Time: 0m 42s\n",
            "\tTrain Loss: 0.975 | Train Acc: 67.80%\n",
            "\t Test Loss: 0.890 |  Test Acc: 70.22%\n",
            "\n",
            "Learning rate for epoch 4: 0.001\n",
            "Epoch:  4 | Epoch Time: 0m 43s\n",
            "\tTrain Loss: 0.855 | Train Acc: 72.43%\n",
            "\t Test Loss: 0.808 |  Test Acc: 72.90%\n",
            "\n",
            "Learning rate for epoch 5: 0.001\n",
            "Epoch:  5 | Epoch Time: 0m 44s\n",
            "\tTrain Loss: 0.779 | Train Acc: 75.38%\n",
            "\t Test Loss: 0.742 |  Test Acc: 74.77%\n",
            "\n",
            "Learning rate for epoch 6: 0.001\n",
            "Epoch:  6 | Epoch Time: 0m 43s\n",
            "\tTrain Loss: 0.697 | Train Acc: 78.08%\n",
            "\t Test Loss: 0.694 |  Test Acc: 77.70%\n",
            "\n",
            "Learning rate for epoch 7: 0.001\n",
            "Epoch:  7 | Epoch Time: 0m 43s\n",
            "\tTrain Loss: 0.656 | Train Acc: 79.46%\n",
            "\t Test Loss: 0.659 |  Test Acc: 78.75%\n",
            "\n",
            "Learning rate for epoch 8: 0.001\n",
            "Epoch:  8 | Epoch Time: 0m 43s\n",
            "\tTrain Loss: 0.602 | Train Acc: 81.36%\n",
            "\t Test Loss: 0.683 |  Test Acc: 78.13%\n",
            "\n",
            "Learning rate for epoch 9: 0.001\n",
            "Epoch:  9 | Epoch Time: 0m 43s\n",
            "\tTrain Loss: 0.550 | Train Acc: 82.78%\n",
            "\t Test Loss: 0.648 |  Test Acc: 79.43%\n",
            "\n",
            "Learning rate for epoch 10: 0.001\n",
            "Epoch: 10 | Epoch Time: 0m 43s\n",
            "\tTrain Loss: 0.513 | Train Acc: 83.89%\n",
            "\t Test Loss: 0.646 |  Test Acc: 80.36%\n",
            "\n",
            "Learning rate for epoch 11: 0.001\n",
            "Epoch: 11 | Epoch Time: 0m 43s\n",
            "\tTrain Loss: 0.486 | Train Acc: 84.79%\n",
            "\t Test Loss: 0.650 |  Test Acc: 80.28%\n",
            "\n",
            "Learning rate for epoch 12: 0.001\n",
            "Epoch: 12 | Epoch Time: 0m 42s\n",
            "\tTrain Loss: 0.444 | Train Acc: 86.10%\n",
            "\t Test Loss: 0.652 |  Test Acc: 80.39%\n",
            "\n",
            "Learning rate for epoch 13: 0.001\n",
            "Epoch: 13 | Epoch Time: 0m 43s\n",
            "\tTrain Loss: 0.420 | Train Acc: 86.91%\n",
            "\t Test Loss: 0.651 |  Test Acc: 81.28%\n",
            "\n",
            "Learning rate for epoch 14: 0.001\n",
            "Epoch: 14 | Epoch Time: 0m 43s\n",
            "\tTrain Loss: 0.391 | Train Acc: 87.76%\n",
            "\t Test Loss: 0.660 |  Test Acc: 80.92%\n",
            "\n",
            "Learning rate for epoch 15: 0.001\n",
            "Epoch: 15 | Epoch Time: 0m 42s\n",
            "\tTrain Loss: 0.359 | Train Acc: 88.88%\n",
            "\t Test Loss: 0.731 |  Test Acc: 79.95%\n",
            "\n",
            "Learning rate for epoch 16: 0.0002\n",
            "Epoch: 16 | Epoch Time: 0m 43s\n",
            "\tTrain Loss: 0.241 | Train Acc: 92.61%\n",
            "\t Test Loss: 0.628 |  Test Acc: 83.16%\n",
            "\n",
            "Learning rate for epoch 17: 0.0002\n",
            "Epoch: 17 | Epoch Time: 0m 43s\n",
            "\tTrain Loss: 0.194 | Train Acc: 94.09%\n",
            "\t Test Loss: 0.677 |  Test Acc: 82.75%\n",
            "\n",
            "Learning rate for epoch 18: 0.0002\n",
            "Epoch: 18 | Epoch Time: 0m 43s\n",
            "\tTrain Loss: 0.172 | Train Acc: 94.81%\n",
            "\t Test Loss: 0.723 |  Test Acc: 82.76%\n",
            "\n",
            "Learning rate for epoch 19: 4e-05\n",
            "Epoch: 19 | Epoch Time: 0m 42s\n",
            "\tTrain Loss: 0.142 | Train Acc: 95.74%\n",
            "\t Test Loss: 0.732 |  Test Acc: 83.27%\n",
            "\n",
            "Learning rate for epoch 20: 4e-05\n",
            "Epoch: 20 | Epoch Time: 0m 42s\n",
            "\tTrain Loss: 0.137 | Train Acc: 95.81%\n",
            "\t Test Loss: 0.730 |  Test Acc: 83.23%\n",
            "\n",
            "Learning rate for epoch 21: 4e-05\n",
            "Epoch: 21 | Epoch Time: 0m 43s\n",
            "\tTrain Loss: 0.127 | Train Acc: 96.19%\n",
            "\t Test Loss: 0.748 |  Test Acc: 83.16%\n",
            "\n",
            "Learning rate for epoch 22: 8.000000000000001e-06\n",
            "Epoch: 22 | Epoch Time: 0m 43s\n",
            "\tTrain Loss: 0.123 | Train Acc: 96.35%\n",
            "\t Test Loss: 0.740 |  Test Acc: 83.21%\n",
            "\n",
            "Learning rate for epoch 23: 8.000000000000001e-06\n",
            "Epoch: 23 | Epoch Time: 0m 42s\n",
            "\tTrain Loss: 0.123 | Train Acc: 96.35%\n",
            "\t Test Loss: 0.751 |  Test Acc: 83.07%\n",
            "\n",
            "Learning rate for epoch 24: 1.6000000000000004e-06\n",
            "Epoch: 24 | Epoch Time: 0m 43s\n",
            "\tTrain Loss: 0.121 | Train Acc: 96.35%\n",
            "\t Test Loss: 0.751 |  Test Acc: 83.08%\n",
            "\n",
            "Learning rate for epoch 25: 1.6000000000000004e-06\n",
            "Epoch: 25 | Epoch Time: 0m 43s\n",
            "\tTrain Loss: 0.119 | Train Acc: 96.53%\n",
            "\t Test Loss: 0.752 |  Test Acc: 82.98%\n",
            "\n",
            "Learning rate for epoch 26: 3.200000000000001e-07\n",
            "Epoch: 26 | Epoch Time: 0m 43s\n",
            "\tTrain Loss: 0.121 | Train Acc: 96.35%\n",
            "\t Test Loss: 0.761 |  Test Acc: 83.02%\n",
            "\n",
            "Learning rate for epoch 27: 3.200000000000001e-07\n",
            "Epoch: 27 | Epoch Time: 0m 43s\n",
            "\tTrain Loss: 0.120 | Train Acc: 96.43%\n",
            "\t Test Loss: 0.760 |  Test Acc: 83.06%\n",
            "\n",
            "Learning rate for epoch 28: 6.400000000000003e-08\n",
            "Epoch: 28 | Epoch Time: 0m 43s\n",
            "\tTrain Loss: 0.123 | Train Acc: 96.30%\n",
            "\t Test Loss: 0.737 |  Test Acc: 83.16%\n",
            "\n",
            "Learning rate for epoch 29: 6.400000000000003e-08\n",
            "Epoch: 29 | Epoch Time: 0m 43s\n",
            "\tTrain Loss: 0.119 | Train Acc: 96.45%\n",
            "\t Test Loss: 0.752 |  Test Acc: 83.22%\n",
            "\n",
            "Learning rate for epoch 30: 1.2800000000000007e-08\n",
            "Epoch: 30 | Epoch Time: 0m 43s\n",
            "\tTrain Loss: 0.119 | Train Acc: 96.51%\n",
            "\t Test Loss: 0.755 |  Test Acc: 83.03%\n",
            "\n",
            "Learning rate for epoch 31: 1.2800000000000007e-08\n",
            "Epoch: 31 | Epoch Time: 0m 43s\n",
            "\tTrain Loss: 0.120 | Train Acc: 96.49%\n",
            "\t Test Loss: 0.753 |  Test Acc: 82.96%\n",
            "\n",
            "Learning rate for epoch 32: 2.5600000000000015e-09\n",
            "Epoch: 32 | Epoch Time: 0m 43s\n",
            "\tTrain Loss: 0.120 | Train Acc: 96.42%\n",
            "\t Test Loss: 0.733 |  Test Acc: 83.15%\n",
            "\n",
            "Learning rate for epoch 33: 2.5600000000000015e-09\n",
            "Epoch: 33 | Epoch Time: 0m 43s\n",
            "\tTrain Loss: 0.120 | Train Acc: 96.37%\n",
            "\t Test Loss: 0.754 |  Test Acc: 83.00%\n",
            "\n",
            "Learning rate for epoch 34: 2.5600000000000015e-09\n",
            "Epoch: 34 | Epoch Time: 0m 43s\n",
            "\tTrain Loss: 0.119 | Train Acc: 96.37%\n",
            "\t Test Loss: 0.773 |  Test Acc: 82.98%\n",
            "\n",
            "Learning rate for epoch 35: 2.5600000000000015e-09\n",
            "Epoch: 35 | Epoch Time: 0m 43s\n",
            "\tTrain Loss: 0.121 | Train Acc: 96.44%\n",
            "\t Test Loss: 0.743 |  Test Acc: 83.10%\n",
            "\n",
            "Learning rate for epoch 36: 2.5600000000000015e-09\n",
            "Epoch: 36 | Epoch Time: 0m 42s\n",
            "\tTrain Loss: 0.119 | Train Acc: 96.57%\n",
            "\t Test Loss: 0.766 |  Test Acc: 82.99%\n",
            "\n",
            "Learning rate for epoch 37: 2.5600000000000015e-09\n",
            "Epoch: 37 | Epoch Time: 0m 43s\n",
            "\tTrain Loss: 0.120 | Train Acc: 96.41%\n",
            "\t Test Loss: 0.751 |  Test Acc: 83.14%\n",
            "\n",
            "Learning rate for epoch 38: 2.5600000000000015e-09\n",
            "Epoch: 38 | Epoch Time: 0m 43s\n",
            "\tTrain Loss: 0.119 | Train Acc: 96.53%\n",
            "\t Test Loss: 0.751 |  Test Acc: 83.12%\n",
            "\n",
            "Learning rate for epoch 39: 2.5600000000000015e-09\n",
            "Epoch: 39 | Epoch Time: 0m 43s\n",
            "\tTrain Loss: 0.120 | Train Acc: 96.47%\n",
            "\t Test Loss: 0.763 |  Test Acc: 83.20%\n",
            "\n",
            "Learning rate for epoch 40: 2.5600000000000015e-09\n",
            "Epoch: 40 | Epoch Time: 0m 43s\n",
            "\tTrain Loss: 0.120 | Train Acc: 96.42%\n",
            "\t Test Loss: 0.756 |  Test Acc: 83.05%\n"
          ]
        }
      ]
    },
    {
      "cell_type": "code",
      "metadata": {
        "id": "pBVGJWbuC8Lq",
        "colab": {
          "base_uri": "https://localhost:8080/",
          "height": 483
        },
        "outputId": "377279df-ffa9-49fb-e91d-1e02cb00e1c0"
      },
      "source": [
        "## predictions of test images. The vertical line shows the true labels and horizontal line shows the predicted labels.\n",
        "\n",
        "\n",
        "import pandas as pd\n",
        "import seaborn as sns\n",
        "\n",
        "\n",
        "classes = ['plane', 'car' , 'bird', 'cat', 'deer', 'dog','frog', 'horse', 'ship', 'truck'] \n",
        "\n",
        "heatmap = pd.DataFrame(data=0,index=classes,columns=classes)\n",
        "with torch.no_grad():\n",
        "    for images, labels in test_loader:\n",
        "        images, labels = images.to(device), labels.to(device)\n",
        "        y_pred_logits, y_pred_probas = model(images)\n",
        "        _, predicted = torch.max(y_pred_probas,1)\n",
        "        c = (predicted == labels).squeeze()\n",
        "        for i in range(labels.shape[0]):\n",
        "            true_label = labels[i].item()\n",
        "            predicted_label = predicted[i].item()\n",
        "            heatmap.iloc[true_label,predicted_label] += 1\n",
        "_, ax = plt.subplots(figsize=(10, 8))\n",
        "ax = sns.heatmap(heatmap, annot=True, fmt=\"d\",cmap=\"YlGnBu\")\n",
        "plt.show()\n"
      ],
      "execution_count": null,
      "outputs": [
        {
          "output_type": "display_data",
          "data": {
            "image/png": "[encoded data removed]",
            "text/plain": [
              "<Figure size 720x576 with 2 Axes>"
            ]
          },
          "metadata": {
            "needs_background": "light"
          }
        }
      ]
    }
  ]
}