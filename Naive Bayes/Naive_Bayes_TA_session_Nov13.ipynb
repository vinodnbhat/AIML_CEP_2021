{
  "nbformat": 4,
  "nbformat_minor": 0,
  "metadata": {
    "colab": {
      "name": "Naive_Bayes_TA_session_Nov13.ipynb",
      "provenance": [],
      "include_colab_link": true
    },
    "kernelspec": {
      "name": "python3",
      "display_name": "Python 3"
    },
    "language_info": {
      "name": "python"
    }
  },
  "cells": [
    {
      "cell_type": "markdown",
      "metadata": {
        "id": "view-in-github",
        "colab_type": "text"
      },
      "source": [
        "<a href=\"https://colab.research.google.com/github/balamurugan-palaniappan-CEP/AIML_CEP_2021/blob/main/Naive_Bayes_TA_session_Nov13.ipynb\" target=\"_parent\"><img src=\"https://colab.research.google.com/assets/colab-badge.svg\" alt=\"Open In Colab\"/></a>"
      ]
    },
    {
      "cell_type": "markdown",
      "metadata": {
        "id": "1a4nkkqv0tc9"
      },
      "source": [
        "#**Naive Bayes Classifier**\n",
        "\n",
        "\n",
        "Consider the data set as given below."
      ]
    },
    {
      "cell_type": "code",
      "metadata": {
        "colab": {
          "base_uri": "https://localhost:8080/"
        },
        "id": "9-jUU00o0wIv",
        "outputId": "823f23f1-5eac-4857-b175-5febc68f535f"
      },
      "source": [
        "#First, we import the required packages\n",
        "import numpy as np\n",
        "#for the following statement to compile successfully, you need the scikit-learn package.\n",
        "from sklearn.datasets import load_breast_cancer\n",
        "breast_cancer_data = load_breast_cancer() \n",
        "X = breast_cancer_data.data\n",
        "y = breast_cancer_data.target\n",
        "#check the shape of breast cancer data features\n",
        "print(\"Breast cancer data shape:\", np.shape(X))\n",
        "#check the shape of breast cancer target labels\n",
        "print(\"Breast cancer target shape:\", np.shape(y))\n",
        "print(np.unique(y)) #print the unique classes\n",
        "print(\"No. of labels with label as 1:\",sum(y))\n",
        "#We can print first 3 samples of breast cancer data and check\n",
        "print(X[0:3])"
      ],
      "execution_count": null,
      "outputs": [
        {
          "output_type": "stream",
          "name": "stdout",
          "text": [
            "Breast cancer data shape: (569, 30)\n",
            "Breast cancer target shape: (569,)\n",
            "[0 1]\n",
            "No. of labels with label as 1: 357\n",
            "[[1.799e+01 1.038e+01 1.228e+02 1.001e+03 1.184e-01 2.776e-01 3.001e-01\n",
            "  1.471e-01 2.419e-01 7.871e-02 1.095e+00 9.053e-01 8.589e+00 1.534e+02\n",
            "  6.399e-03 4.904e-02 5.373e-02 1.587e-02 3.003e-02 6.193e-03 2.538e+01\n",
            "  1.733e+01 1.846e+02 2.019e+03 1.622e-01 6.656e-01 7.119e-01 2.654e-01\n",
            "  4.601e-01 1.189e-01]\n",
            " [2.057e+01 1.777e+01 1.329e+02 1.326e+03 8.474e-02 7.864e-02 8.690e-02\n",
            "  7.017e-02 1.812e-01 5.667e-02 5.435e-01 7.339e-01 3.398e+00 7.408e+01\n",
            "  5.225e-03 1.308e-02 1.860e-02 1.340e-02 1.389e-02 3.532e-03 2.499e+01\n",
            "  2.341e+01 1.588e+02 1.956e+03 1.238e-01 1.866e-01 2.416e-01 1.860e-01\n",
            "  2.750e-01 8.902e-02]\n",
            " [1.969e+01 2.125e+01 1.300e+02 1.203e+03 1.096e-01 1.599e-01 1.974e-01\n",
            "  1.279e-01 2.069e-01 5.999e-02 7.456e-01 7.869e-01 4.585e+00 9.403e+01\n",
            "  6.150e-03 4.006e-02 3.832e-02 2.058e-02 2.250e-02 4.571e-03 2.357e+01\n",
            "  2.553e+01 1.525e+02 1.709e+03 1.444e-01 4.245e-01 4.504e-01 2.430e-01\n",
            "  3.613e-01 8.758e-02]]\n"
          ]
        }
      ]
    },
    {
      "cell_type": "code",
      "metadata": {
        "id": "FLvq4Wi81iBR"
      },
      "source": [
        "np.random.seed(1000) #for reproducibility\n",
        "num_samples = len(X)\n",
        "#Create an index array \n",
        "indexarr = np.arange(num_samples) #index array\n",
        "np.random.shuffle(indexarr) #shuffle the indices \n",
        "#print('shuffled indices of samples:')\n",
        "#print(indexarr)"
      ],
      "execution_count": null,
      "outputs": []
    },
    {
      "cell_type": "code",
      "metadata": {
        "colab": {
          "base_uri": "https://localhost:8080/"
        },
        "id": "u40keSaR3CHX",
        "outputId": "8acd7f6e-292a-4a45-eb3f-2b0070f5d991"
      },
      "source": [
        "#Use the samples corresponding to first 80% of indexarr for training \n",
        "num_train = int(0.8*num_samples)\n",
        "#Use the remaining 20% samples for testing \n",
        "num_test = num_samples-num_train\n",
        "print('num_train: ',num_train, ' num_test: ', num_test)"
      ],
      "execution_count": null,
      "outputs": [
        {
          "output_type": "stream",
          "name": "stdout",
          "text": [
            "num_train:  455  num_test:  114\n"
          ]
        }
      ]
    },
    {
      "cell_type": "code",
      "metadata": {
        "colab": {
          "base_uri": "https://localhost:8080/"
        },
        "id": "zORGa2JU3Epe",
        "outputId": "5784b10f-8e5f-49eb-953d-75c975fbcb53"
      },
      "source": [
        "#Use the first 80% of indexarr to create the train data features and train labels \n",
        "train_X = X[indexarr[0:num_train]]\n",
        "train_y = y[indexarr[0:num_train]]\n",
        "print('shape of train data features:')\n",
        "print(train_X.shape)\n",
        "print('shape of train data labels')\n",
        "print(train_y.shape)"
      ],
      "execution_count": null,
      "outputs": [
        {
          "output_type": "stream",
          "name": "stdout",
          "text": [
            "shape of train data features:\n",
            "(455, 30)\n",
            "shape of train data labels\n",
            "(455,)\n"
          ]
        }
      ]
    },
    {
      "cell_type": "code",
      "metadata": {
        "colab": {
          "base_uri": "https://localhost:8080/"
        },
        "id": "8IsemG3P3Mq4",
        "outputId": "9019ecae-303a-44eb-cf08-016050db3479"
      },
      "source": [
        "#Use remaining 20% of indexarr to create the test data and test labels  \n",
        "test_X = X[indexarr[num_train:num_samples]]\n",
        "test_y = y[indexarr[num_train:num_samples]]\n",
        "print('shape of test data features:')\n",
        "print(test_X.shape)\n",
        "print('shape of test data labels')\n",
        "print(test_y.shape)"
      ],
      "execution_count": null,
      "outputs": [
        {
          "output_type": "stream",
          "name": "stdout",
          "text": [
            "shape of test data features:\n",
            "(114, 30)\n",
            "shape of test data labels\n",
            "(114,)\n"
          ]
        }
      ]
    },
    {
      "cell_type": "code",
      "metadata": {
        "colab": {
          "base_uri": "https://localhost:8080/"
        },
        "id": "fVq_IA0B3RlG",
        "outputId": "826eaaa3-ea91-4ccb-ab23-75314b53acc9"
      },
      "source": [
        "from sklearn.naive_bayes import GaussianNB\n",
        "nb_model = GaussianNB() #define a model using Gaussian version Naive Bayes classifier\n",
        "nb_model.fit(train_X, train_y) #fit the model using the training data"
      ],
      "execution_count": null,
      "outputs": [
        {
          "output_type": "execute_result",
          "data": {
            "text/plain": [
              "GaussianNB(priors=None, var_smoothing=1e-09)"
            ]
          },
          "metadata": {},
          "execution_count": 6
        }
      ]
    },
    {
      "cell_type": "markdown",
      "metadata": {
        "id": "c0ZZOTT8AXMA"
      },
      "source": [
        "**GaussianNB(priors, var_smoothing=1e-09)** command in *scikit-learn* package uses the following parameters:\n",
        "\n",
        "\n",
        "*   *priors* as probabilities of the classes. (If specified the priors are not adjusted according to the data.)\n",
        "*   *var_smoothing* is the portion of the largest variance of all features that is added to variances for calculation stability.\n"
      ]
    },
    {
      "cell_type": "code",
      "metadata": {
        "id": "fzm648bm4ahv"
      },
      "source": [
        "predicted_train_y = nb_model.predict(train_X)\n",
        "predicted_test_y = nb_model.predict(test_X)"
      ],
      "execution_count": null,
      "outputs": []
    },
    {
      "cell_type": "code",
      "metadata": {
        "colab": {
          "base_uri": "https://localhost:8080/"
        },
        "id": "687T7UoC5FRh",
        "outputId": "abb0ffc0-b314-4054-976b-a4da17fd4f8e"
      },
      "source": [
        "from sklearn.metrics import classification_report\n",
        "train_cr = classification_report(train_y, predicted_train_y)\n",
        "print(\"Train Report:\")\n",
        "print(train_cr)\n",
        "test_cr = classification_report(test_y, predicted_test_y)\n",
        "print(\"Test Report:\")\n",
        "print(test_cr)"
      ],
      "execution_count": null,
      "outputs": [
        {
          "output_type": "stream",
          "name": "stdout",
          "text": [
            "Train Report:\n",
            "              precision    recall  f1-score   support\n",
            "\n",
            "           0       0.95      0.91      0.93       161\n",
            "           1       0.95      0.98      0.96       294\n",
            "\n",
            "    accuracy                           0.95       455\n",
            "   macro avg       0.95      0.94      0.95       455\n",
            "weighted avg       0.95      0.95      0.95       455\n",
            "\n",
            "Test Report:\n",
            "              precision    recall  f1-score   support\n",
            "\n",
            "           0       0.98      0.80      0.88        51\n",
            "           1       0.86      0.98      0.92        63\n",
            "\n",
            "    accuracy                           0.90       114\n",
            "   macro avg       0.92      0.89      0.90       114\n",
            "weighted avg       0.91      0.90      0.90       114\n",
            "\n"
          ]
        }
      ]
    },
    {
      "cell_type": "code",
      "metadata": {
        "id": "1xQ18JqWUpZ-"
      },
      "source": [
        "import pandas as pd #the pandas library is useful for data processing\n",
        "train_X_df = pd.DataFrame(train_X, columns = breast_cancer_data.feature_names)\n",
        "test_X_df = pd.DataFrame(test_X, columns = breast_cancer_data.feature_names)"
      ],
      "execution_count": null,
      "outputs": []
    },
    {
      "cell_type": "code",
      "metadata": {
        "colab": {
          "base_uri": "https://localhost:8080/",
          "height": 704
        },
        "id": "wB8SAC1PRRN1",
        "outputId": "9d94f14c-f030-4ad0-f5d6-9e6778c1b1b5"
      },
      "source": [
        "import seaborn as sns\n",
        "import matplotlib.pyplot as plt\n",
        "#Using Pearson Correlation\n",
        "plt.figure(figsize=(12,10))\n",
        "cor = train_X_df.corr()\n",
        "sns.heatmap(cor, annot=False, cmap=plt.cm.CMRmap_r)\n",
        "plt.show()"
      ],
      "execution_count": null,
      "outputs": [
        {
          "output_type": "display_data",
          "data": {
            "image/png": "[encoded data removed]",
            "text/plain": [
              "<Figure size 864x720 with 2 Axes>"
            ]
          },
          "metadata": {
            "needs_background": "light"
          }
        }
      ]
    },
    {
      "cell_type": "markdown",
      "metadata": {
        "id": "9UsKpNhCDKFJ"
      },
      "source": [
        "**Correlation**:\n",
        "\n",
        "Pearson correlation coefficient is a measure of linear correlation between two sets of data.\n",
        "\n",
        "$$\\rho_{X,Y}= \\frac{\\operatorname{cov}(X,Y)}{\\sigma_X \\sigma_Y}=\\frac{\\mathbb{E}[(X-\\mu_X)(Y-\\mu_Y)]}{\\sigma_X \\sigma_Y}.$$"
      ]
    },
    {
      "cell_type": "code",
      "metadata": {
        "colab": {
          "base_uri": "https://localhost:8080/",
          "height": 470
        },
        "id": "5k-_wEEkcQhh",
        "outputId": "a66cbb54-1b97-4f26-fa1f-050431ce57f7"
      },
      "source": [
        "#Dropping folowing features from the data\n",
        "train_X_df.drop(['mean perimeter', 'mean area',  'mean smoothness', 'perimeter error', 'area error', 'compactness error', 'worst perimeter', 'worst area', 'worst concavity'], axis=1)"
      ],
      "execution_count": null,
      "outputs": [
        {
          "output_type": "execute_result",
          "data": {
            "text/html": [
              "<div>\n",
              "<style scoped>\n",
              "    .dataframe tbody tr th:only-of-type {\n",
              "        vertical-align: middle;\n",
              "    }\n",
              "\n",
              "    .dataframe tbody tr th {\n",
              "        vertical-align: top;\n",
              "    }\n",
              "\n",
              "    .dataframe thead th {\n",
              "        text-align: right;\n",
              "    }\n",
              "</style>\n",
              "<table border=\"1\" class=\"dataframe\">\n",
              "  <thead>\n",
              "    <tr style=\"text-align: right;\">\n",
              "      <th></th>\n",
              "      <th>mean radius</th>\n",
              "      <th>mean texture</th>\n",
              "      <th>mean compactness</th>\n",
              "      <th>mean concavity</th>\n",
              "      <th>mean concave points</th>\n",
              "      <th>mean symmetry</th>\n",
              "      <th>mean fractal dimension</th>\n",
              "      <th>radius error</th>\n",
              "      <th>texture error</th>\n",
              "      <th>smoothness error</th>\n",
              "      <th>concavity error</th>\n",
              "      <th>concave points error</th>\n",
              "      <th>symmetry error</th>\n",
              "      <th>fractal dimension error</th>\n",
              "      <th>worst radius</th>\n",
              "      <th>worst texture</th>\n",
              "      <th>worst smoothness</th>\n",
              "      <th>worst compactness</th>\n",
              "      <th>worst concave points</th>\n",
              "      <th>worst symmetry</th>\n",
              "      <th>worst fractal dimension</th>\n",
              "    </tr>\n",
              "  </thead>\n",
              "  <tbody>\n",
              "    <tr>\n",
              "      <th>0</th>\n",
              "      <td>17.68</td>\n",
              "      <td>20.74</td>\n",
              "      <td>0.16650</td>\n",
              "      <td>0.18550</td>\n",
              "      <td>0.105400</td>\n",
              "      <td>0.1971</td>\n",
              "      <td>0.06166</td>\n",
              "      <td>0.8113</td>\n",
              "      <td>1.4000</td>\n",
              "      <td>0.009037</td>\n",
              "      <td>0.05206</td>\n",
              "      <td>0.018410</td>\n",
              "      <td>0.01778</td>\n",
              "      <td>0.004968</td>\n",
              "      <td>20.47</td>\n",
              "      <td>25.11</td>\n",
              "      <td>0.14180</td>\n",
              "      <td>0.34980</td>\n",
              "      <td>0.15150</td>\n",
              "      <td>0.2463</td>\n",
              "      <td>0.07738</td>\n",
              "    </tr>\n",
              "    <tr>\n",
              "      <th>1</th>\n",
              "      <td>18.65</td>\n",
              "      <td>17.60</td>\n",
              "      <td>0.16860</td>\n",
              "      <td>0.19740</td>\n",
              "      <td>0.100900</td>\n",
              "      <td>0.1907</td>\n",
              "      <td>0.06049</td>\n",
              "      <td>0.6289</td>\n",
              "      <td>0.6633</td>\n",
              "      <td>0.006294</td>\n",
              "      <td>0.05554</td>\n",
              "      <td>0.016950</td>\n",
              "      <td>0.02428</td>\n",
              "      <td>0.003535</td>\n",
              "      <td>22.82</td>\n",
              "      <td>21.32</td>\n",
              "      <td>0.16790</td>\n",
              "      <td>0.50900</td>\n",
              "      <td>0.23780</td>\n",
              "      <td>0.3799</td>\n",
              "      <td>0.09185</td>\n",
              "    </tr>\n",
              "    <tr>\n",
              "      <th>2</th>\n",
              "      <td>21.75</td>\n",
              "      <td>20.99</td>\n",
              "      <td>0.19610</td>\n",
              "      <td>0.21950</td>\n",
              "      <td>0.108800</td>\n",
              "      <td>0.1721</td>\n",
              "      <td>0.06194</td>\n",
              "      <td>1.1670</td>\n",
              "      <td>1.3520</td>\n",
              "      <td>0.005687</td>\n",
              "      <td>0.06329</td>\n",
              "      <td>0.015610</td>\n",
              "      <td>0.01924</td>\n",
              "      <td>0.004614</td>\n",
              "      <td>28.19</td>\n",
              "      <td>28.18</td>\n",
              "      <td>0.12720</td>\n",
              "      <td>0.47250</td>\n",
              "      <td>0.18410</td>\n",
              "      <td>0.2833</td>\n",
              "      <td>0.08858</td>\n",
              "    </tr>\n",
              "    <tr>\n",
              "      <th>3</th>\n",
              "      <td>21.16</td>\n",
              "      <td>23.04</td>\n",
              "      <td>0.10220</td>\n",
              "      <td>0.10970</td>\n",
              "      <td>0.086320</td>\n",
              "      <td>0.1769</td>\n",
              "      <td>0.05278</td>\n",
              "      <td>0.6917</td>\n",
              "      <td>1.1270</td>\n",
              "      <td>0.004728</td>\n",
              "      <td>0.01715</td>\n",
              "      <td>0.010380</td>\n",
              "      <td>0.01083</td>\n",
              "      <td>0.001987</td>\n",
              "      <td>29.17</td>\n",
              "      <td>35.59</td>\n",
              "      <td>0.14010</td>\n",
              "      <td>0.26000</td>\n",
              "      <td>0.20090</td>\n",
              "      <td>0.2822</td>\n",
              "      <td>0.07526</td>\n",
              "    </tr>\n",
              "    <tr>\n",
              "      <th>4</th>\n",
              "      <td>17.85</td>\n",
              "      <td>13.23</td>\n",
              "      <td>0.06217</td>\n",
              "      <td>0.04445</td>\n",
              "      <td>0.041780</td>\n",
              "      <td>0.1220</td>\n",
              "      <td>0.05243</td>\n",
              "      <td>0.4834</td>\n",
              "      <td>1.0460</td>\n",
              "      <td>0.004369</td>\n",
              "      <td>0.01153</td>\n",
              "      <td>0.007437</td>\n",
              "      <td>0.01302</td>\n",
              "      <td>0.001309</td>\n",
              "      <td>19.82</td>\n",
              "      <td>18.42</td>\n",
              "      <td>0.09862</td>\n",
              "      <td>0.09976</td>\n",
              "      <td>0.08341</td>\n",
              "      <td>0.1783</td>\n",
              "      <td>0.05871</td>\n",
              "    </tr>\n",
              "    <tr>\n",
              "      <th>...</th>\n",
              "      <td>...</td>\n",
              "      <td>...</td>\n",
              "      <td>...</td>\n",
              "      <td>...</td>\n",
              "      <td>...</td>\n",
              "      <td>...</td>\n",
              "      <td>...</td>\n",
              "      <td>...</td>\n",
              "      <td>...</td>\n",
              "      <td>...</td>\n",
              "      <td>...</td>\n",
              "      <td>...</td>\n",
              "      <td>...</td>\n",
              "      <td>...</td>\n",
              "      <td>...</td>\n",
              "      <td>...</td>\n",
              "      <td>...</td>\n",
              "      <td>...</td>\n",
              "      <td>...</td>\n",
              "      <td>...</td>\n",
              "      <td>...</td>\n",
              "    </tr>\n",
              "    <tr>\n",
              "      <th>450</th>\n",
              "      <td>11.13</td>\n",
              "      <td>22.44</td>\n",
              "      <td>0.08194</td>\n",
              "      <td>0.04824</td>\n",
              "      <td>0.022570</td>\n",
              "      <td>0.2030</td>\n",
              "      <td>0.06552</td>\n",
              "      <td>0.2800</td>\n",
              "      <td>1.4670</td>\n",
              "      <td>0.003495</td>\n",
              "      <td>0.03445</td>\n",
              "      <td>0.010240</td>\n",
              "      <td>0.02912</td>\n",
              "      <td>0.004723</td>\n",
              "      <td>12.02</td>\n",
              "      <td>28.26</td>\n",
              "      <td>0.10870</td>\n",
              "      <td>0.17820</td>\n",
              "      <td>0.06413</td>\n",
              "      <td>0.3169</td>\n",
              "      <td>0.08032</td>\n",
              "    </tr>\n",
              "    <tr>\n",
              "      <th>451</th>\n",
              "      <td>14.41</td>\n",
              "      <td>19.73</td>\n",
              "      <td>0.16760</td>\n",
              "      <td>0.13620</td>\n",
              "      <td>0.066020</td>\n",
              "      <td>0.1714</td>\n",
              "      <td>0.07192</td>\n",
              "      <td>0.8811</td>\n",
              "      <td>1.7700</td>\n",
              "      <td>0.007762</td>\n",
              "      <td>0.09960</td>\n",
              "      <td>0.027710</td>\n",
              "      <td>0.04077</td>\n",
              "      <td>0.022860</td>\n",
              "      <td>15.77</td>\n",
              "      <td>22.13</td>\n",
              "      <td>0.09983</td>\n",
              "      <td>0.24720</td>\n",
              "      <td>0.10210</td>\n",
              "      <td>0.2272</td>\n",
              "      <td>0.08799</td>\n",
              "    </tr>\n",
              "    <tr>\n",
              "      <th>452</th>\n",
              "      <td>20.18</td>\n",
              "      <td>19.54</td>\n",
              "      <td>0.14890</td>\n",
              "      <td>0.21330</td>\n",
              "      <td>0.125900</td>\n",
              "      <td>0.1724</td>\n",
              "      <td>0.06053</td>\n",
              "      <td>0.4331</td>\n",
              "      <td>1.0010</td>\n",
              "      <td>0.009087</td>\n",
              "      <td>0.05546</td>\n",
              "      <td>0.019100</td>\n",
              "      <td>0.02451</td>\n",
              "      <td>0.004005</td>\n",
              "      <td>22.03</td>\n",
              "      <td>25.07</td>\n",
              "      <td>0.16650</td>\n",
              "      <td>0.29420</td>\n",
              "      <td>0.21730</td>\n",
              "      <td>0.3032</td>\n",
              "      <td>0.08075</td>\n",
              "    </tr>\n",
              "    <tr>\n",
              "      <th>453</th>\n",
              "      <td>14.20</td>\n",
              "      <td>20.53</td>\n",
              "      <td>0.11080</td>\n",
              "      <td>0.05063</td>\n",
              "      <td>0.030580</td>\n",
              "      <td>0.1506</td>\n",
              "      <td>0.06009</td>\n",
              "      <td>0.3478</td>\n",
              "      <td>1.0180</td>\n",
              "      <td>0.004107</td>\n",
              "      <td>0.02821</td>\n",
              "      <td>0.013500</td>\n",
              "      <td>0.01610</td>\n",
              "      <td>0.002744</td>\n",
              "      <td>16.45</td>\n",
              "      <td>27.26</td>\n",
              "      <td>0.11530</td>\n",
              "      <td>0.34290</td>\n",
              "      <td>0.13390</td>\n",
              "      <td>0.2534</td>\n",
              "      <td>0.07858</td>\n",
              "    </tr>\n",
              "    <tr>\n",
              "      <th>454</th>\n",
              "      <td>11.32</td>\n",
              "      <td>27.08</td>\n",
              "      <td>0.03813</td>\n",
              "      <td>0.01633</td>\n",
              "      <td>0.003125</td>\n",
              "      <td>0.1869</td>\n",
              "      <td>0.05628</td>\n",
              "      <td>0.1210</td>\n",
              "      <td>0.8927</td>\n",
              "      <td>0.003653</td>\n",
              "      <td>0.01633</td>\n",
              "      <td>0.003125</td>\n",
              "      <td>0.01537</td>\n",
              "      <td>0.002052</td>\n",
              "      <td>12.08</td>\n",
              "      <td>33.75</td>\n",
              "      <td>0.09203</td>\n",
              "      <td>0.14320</td>\n",
              "      <td>0.02083</td>\n",
              "      <td>0.2849</td>\n",
              "      <td>0.07087</td>\n",
              "    </tr>\n",
              "  </tbody>\n",
              "</table>\n",
              "<p>455 rows × 21 columns</p>\n",
              "</div>"
            ],
            "text/plain": [
              "     mean radius  mean texture  ...  worst symmetry  worst fractal dimension\n",
              "0          17.68         20.74  ...          0.2463                  0.07738\n",
              "1          18.65         17.60  ...          0.3799                  0.09185\n",
              "2          21.75         20.99  ...          0.2833                  0.08858\n",
              "3          21.16         23.04  ...          0.2822                  0.07526\n",
              "4          17.85         13.23  ...          0.1783                  0.05871\n",
              "..           ...           ...  ...             ...                      ...\n",
              "450        11.13         22.44  ...          0.3169                  0.08032\n",
              "451        14.41         19.73  ...          0.2272                  0.08799\n",
              "452        20.18         19.54  ...          0.3032                  0.08075\n",
              "453        14.20         20.53  ...          0.2534                  0.07858\n",
              "454        11.32         27.08  ...          0.2849                  0.07087\n",
              "\n",
              "[455 rows x 21 columns]"
            ]
          },
          "metadata": {},
          "execution_count": 11
        }
      ]
    },
    {
      "cell_type": "code",
      "metadata": {
        "colab": {
          "base_uri": "https://localhost:8080/"
        },
        "id": "fdeSMyG95ass",
        "outputId": "e39c8db9-1f77-4118-c6b7-8928b6280e50"
      },
      "source": [
        "train_X_reduced = train_X_df.drop(['mean perimeter', 'perimeter error', 'worst perimeter'], axis=1).to_numpy()\n",
        "print(np.shape(train_X_reduced))\n",
        "test_X_reduced = test_X_df.drop(['mean perimeter', 'perimeter error', 'worst perimeter'], axis=1).to_numpy()\n",
        "print(np.shape(test_X_reduced))"
      ],
      "execution_count": null,
      "outputs": [
        {
          "output_type": "stream",
          "name": "stdout",
          "text": [
            "(455, 27)\n",
            "(114, 27)\n"
          ]
        }
      ]
    },
    {
      "cell_type": "code",
      "metadata": {
        "colab": {
          "base_uri": "https://localhost:8080/"
        },
        "id": "C6qfXbQsJ7Hn",
        "outputId": "d35135ec-b0c2-46e2-d1f4-e86431602032"
      },
      "source": [
        "nb_reduced_model = GaussianNB()\n",
        "nb_reduced_model.fit(train_X_reduced, train_y)"
      ],
      "execution_count": null,
      "outputs": [
        {
          "output_type": "execute_result",
          "data": {
            "text/plain": [
              "GaussianNB(priors=None, var_smoothing=1e-09)"
            ]
          },
          "metadata": {},
          "execution_count": 13
        }
      ]
    },
    {
      "cell_type": "code",
      "metadata": {
        "id": "Q-B4NWDsK75X"
      },
      "source": [
        "predicted_train_reduced_y = nb_reduced_model.predict(train_X_reduced)\n",
        "predicted_test_reduced_y = nb_reduced_model.predict(test_X_reduced)"
      ],
      "execution_count": null,
      "outputs": []
    },
    {
      "cell_type": "code",
      "metadata": {
        "colab": {
          "base_uri": "https://localhost:8080/"
        },
        "id": "Dz2t-M8_LStw",
        "outputId": "489765f4-51e5-4a45-bd75-d8c05341f768"
      },
      "source": [
        "#obtaining the classification report\n",
        "train_cr_reduced = classification_report(train_y, predicted_train_reduced_y)\n",
        "print(\"Train Report (Full):\")\n",
        "print(train_cr)\n",
        "print(\"Train Report (Reduced):\")\n",
        "print(train_cr_reduced)"
      ],
      "execution_count": null,
      "outputs": [
        {
          "output_type": "stream",
          "name": "stdout",
          "text": [
            "Train Report (Full):\n",
            "              precision    recall  f1-score   support\n",
            "\n",
            "           0       0.95      0.91      0.93       161\n",
            "           1       0.95      0.98      0.96       294\n",
            "\n",
            "    accuracy                           0.95       455\n",
            "   macro avg       0.95      0.94      0.95       455\n",
            "weighted avg       0.95      0.95      0.95       455\n",
            "\n",
            "Train Report (Reduced):\n",
            "              precision    recall  f1-score   support\n",
            "\n",
            "           0       0.94      0.92      0.93       161\n",
            "           1       0.96      0.97      0.96       294\n",
            "\n",
            "    accuracy                           0.95       455\n",
            "   macro avg       0.95      0.94      0.95       455\n",
            "weighted avg       0.95      0.95      0.95       455\n",
            "\n"
          ]
        }
      ]
    },
    {
      "cell_type": "code",
      "metadata": {
        "colab": {
          "base_uri": "https://localhost:8080/"
        },
        "id": "8nHB3Uksv3en",
        "outputId": "1c3eb814-6a7e-463e-fc7f-f92f1f74ab63"
      },
      "source": [
        "test_cr_reduced = classification_report(test_y, predicted_test_reduced_y)\n",
        "print(\"Test Report (Full):\")\n",
        "print(test_cr)\n",
        "print(\"Test Report (Reduced):\")\n",
        "print(test_cr_reduced)"
      ],
      "execution_count": null,
      "outputs": [
        {
          "output_type": "stream",
          "name": "stdout",
          "text": [
            "Test Report (Full):\n",
            "              precision    recall  f1-score   support\n",
            "\n",
            "           0       0.98      0.80      0.88        51\n",
            "           1       0.86      0.98      0.92        63\n",
            "\n",
            "    accuracy                           0.90       114\n",
            "   macro avg       0.92      0.89      0.90       114\n",
            "weighted avg       0.91      0.90      0.90       114\n",
            "\n",
            "Test Report (Reduced):\n",
            "              precision    recall  f1-score   support\n",
            "\n",
            "           0       0.98      0.82      0.89        51\n",
            "           1       0.87      0.98      0.93        63\n",
            "\n",
            "    accuracy                           0.91       114\n",
            "   macro avg       0.92      0.90      0.91       114\n",
            "weighted avg       0.92      0.91      0.91       114\n",
            "\n"
          ]
        }
      ]
    },
    {
      "cell_type": "code",
      "metadata": {
        "id": "wpLq223Jv81J"
      },
      "source": [
        ""
      ],
      "execution_count": null,
      "outputs": []
    }
  ]
}
