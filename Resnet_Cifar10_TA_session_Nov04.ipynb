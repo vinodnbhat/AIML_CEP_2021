{
  "nbformat": 4,
  "nbformat_minor": 0,
  "metadata": {
    "accelerator": "GPU",
    "colab": {
      "name": "Resnet_Cifar10_TA_session_Nov04",
      "provenance": [],
      "collapsed_sections": [],
      "include_colab_link": true
    },
    "kernelspec": {
      "display_name": "Python 3",
      "language": "python",
      "name": "python3"
    },
    "language_info": {
      "codemirror_mode": {
        "name": "ipython",
        "version": 3
      },
      "file_extension": ".py",
      "mimetype": "text/x-python",
      "name": "python",
      "nbconvert_exporter": "python",
      "pygments_lexer": "ipython3",
      "version": "3.6.5"
    }
  },
  "cells": [
    {
      "cell_type": "markdown",
      "metadata": {
        "id": "view-in-github",
        "colab_type": "text"
      },
      "source": [
        "<a href=\"https://colab.research.google.com/github/vinodnbhat/AIML_CEP_2021/blob/main/Resnet_Cifar10_TA_session_Nov04.ipynb\" target=\"_parent\"><img src=\"https://colab.research.google.com/assets/colab-badge.svg\" alt=\"Open In Colab\"/></a>"
      ]
    },
    {
      "cell_type": "code",
      "metadata": {
        "id": "XMoALh6BmYBW"
      },
      "source": [
        "#Imort the required libraries\n",
        "import torch\n",
        "import torch.nn as nn\n",
        "import torch.nn.functional as F\n",
        "import torch.optim as optim\n",
        "import torch.utils.data as data\n",
        "import torch.optim.lr_scheduler as lr_scheduler\n",
        "import torchvision.transforms as transforms\n",
        "import torchvision.datasets as datasets\n",
        "import matplotlib.pyplot as plt\n",
        "import numpy as np\n",
        "import random\n",
        "import time"
      ],
      "execution_count": null,
      "outputs": []
    },
    {
      "cell_type": "code",
      "metadata": {
        "id": "GaGmMYCD1upD"
      },
      "source": [
        "SEED = 1234\n",
        "random.seed(SEED)\n",
        "np.random.seed(SEED)\n",
        "torch.manual_seed(SEED)\n",
        "torch.cuda.manual_seed(SEED)"
      ],
      "execution_count": null,
      "outputs": []
    },
    {
      "cell_type": "markdown",
      "metadata": {
        "id": "-OZHy7Cg7tv-"
      },
      "source": [
        "##CIFAR-10 dataset:\n",
        "\n",
        "The dataset consists of 60,000 32x32 color images in 10 different classes with each class having 6,000 images. There are 50,000 train images and 10,000 test images. The classes are:\n",
        "* Airplanes\n",
        "* Cars\n",
        "* Birds\n",
        "* Cats\n",
        "* Deer\n",
        "* Dogs\n",
        "* Frogs\n",
        "* Horses\n",
        "* Ships\n",
        "* Trucks\n",
        "\n"
      ]
    },
    {
      "cell_type": "code",
      "metadata": {
        "id": "WxN5-L6Z1upQ",
        "colab": {
          "base_uri": "https://localhost:8080/"
        },
        "outputId": "4cd500cf-a0d4-4943-c948-a903a1e4f13e"
      },
      "source": [
        "ROOT = '.data'\n",
        "\n",
        "\n",
        "#downloading cifar10 dataset from torchvision.datasets\n",
        "train_data = datasets.CIFAR10(root = ROOT, \n",
        "                             train = True, \n",
        "                             download = True)\n",
        "\n",
        "mean = train_data.data.mean() / 255\n",
        "std = train_data.data.std() / 255\n",
        "\n",
        "print(f'Calculated mean: {mean}')\n",
        "print(f'Calculated std: {std}')\n"
      ],
      "execution_count": null,
      "outputs": [
        {
          "output_type": "stream",
          "name": "stdout",
          "text": [
            "Files already downloaded and verified\n",
            "Calculated mean: 0.4733630004850899\n",
            "Calculated std: 0.2515689250632208\n"
          ]
        }
      ]
    },
    {
      "cell_type": "code",
      "metadata": {
        "id": "iavK-kzI1upc",
        "colab": {
          "base_uri": "https://localhost:8080/"
        },
        "outputId": "46c56e1f-4cc9-4203-a72d-7bb17894fdea"
      },
      "source": [
        "print(train_data.data.shape)"
      ],
      "execution_count": null,
      "outputs": [
        {
          "output_type": "stream",
          "name": "stdout",
          "text": [
            "(50000, 32, 32, 3)\n"
          ]
        }
      ]
    },
    {
      "cell_type": "code",
      "metadata": {
        "id": "6CpfULO31upj"
      },
      "source": [
        "train_transforms = transforms.Compose([\n",
        "                            transforms.ToTensor(),\n",
        "                            transforms.Normalize(mean = [mean], std = [std])\n",
        "                                      ])\n",
        "\n",
        "test_transforms = transforms.Compose([\n",
        "                           transforms.ToTensor(),\n",
        "                           transforms.Normalize(mean = [mean], std = [std])\n",
        "                                     ])"
      ],
      "execution_count": null,
      "outputs": []
    },
    {
      "cell_type": "code",
      "metadata": {
        "id": "05M-wSsD1upr",
        "colab": {
          "base_uri": "https://localhost:8080/"
        },
        "outputId": "5aba39fd-fc68-4bf0-bdc0-224d53b14917"
      },
      "source": [
        "train_set = datasets.CIFAR10(root = ROOT, \n",
        "                            train = True, \n",
        "                            download = True, \n",
        "                            transform = train_transforms)\n",
        "\n",
        "test_set = datasets.CIFAR10(root = ROOT, \n",
        "                           train = False, \n",
        "                           download = True, \n",
        "                           transform = test_transforms)"
      ],
      "execution_count": null,
      "outputs": [
        {
          "output_type": "stream",
          "name": "stdout",
          "text": [
            "Files already downloaded and verified\n",
            "Files already downloaded and verified\n"
          ]
        }
      ]
    },
    {
      "cell_type": "code",
      "metadata": {
        "id": "QRnxwhfI1up3",
        "colab": {
          "base_uri": "https://localhost:8080/"
        },
        "outputId": "a1f9d627-9924-4107-e164-9020c027364f"
      },
      "source": [
        "print(train_set.data.shape)"
      ],
      "execution_count": null,
      "outputs": [
        {
          "output_type": "stream",
          "name": "stdout",
          "text": [
            "(50000, 32, 32, 3)\n"
          ]
        }
      ]
    },
    {
      "cell_type": "code",
      "metadata": {
        "id": "D6_al7YF1up-",
        "colab": {
          "base_uri": "https://localhost:8080/"
        },
        "outputId": "5f62d572-c89e-4d19-8219-6bfe4a81d50e"
      },
      "source": [
        "print(test_set.data.shape)"
      ],
      "execution_count": null,
      "outputs": [
        {
          "output_type": "stream",
          "name": "stdout",
          "text": [
            "(10000, 32, 32, 3)\n"
          ]
        }
      ]
    },
    {
      "cell_type": "code",
      "metadata": {
        "id": "xsBkZWwt1uqE",
        "colab": {
          "base_uri": "https://localhost:8080/"
        },
        "outputId": "d8021ba6-df12-421d-a225-b212b00f59d1"
      },
      "source": [
        "print(f'Number of training examples: {len(train_set)}')\n",
        "print(f'Number of testing examples: {len(test_set)}')"
      ],
      "execution_count": null,
      "outputs": [
        {
          "output_type": "stream",
          "name": "stdout",
          "text": [
            "Number of training examples: 50000\n",
            "Number of testing examples: 10000\n"
          ]
        }
      ]
    },
    {
      "cell_type": "code",
      "metadata": {
        "id": "IrtnwVYVPMkn"
      },
      "source": [
        "batch_size = 64\n",
        "\n",
        "#iterators for shuffling and loading data in batches \n",
        "train_loader = data.DataLoader(train_set, \n",
        "                                 shuffle = True, \n",
        "                                 batch_size = batch_size)\n",
        "\n",
        "test_loader = data.DataLoader(test_set, \n",
        "                                batch_size = batch_size)"
      ],
      "execution_count": null,
      "outputs": []
    },
    {
      "cell_type": "code",
      "metadata": {
        "id": "ITOaZdQTnT2N",
        "colab": {
          "base_uri": "https://localhost:8080/"
        },
        "outputId": "0b6cc8d7-d7e9-4044-c9d8-34b89c7a2283"
      },
      "source": [
        "# Checking the batch dimensions \n",
        "for images, labels in train_loader:  \n",
        "    print('Image batch dimensions:', images.shape)\n",
        "    print('Image label dimensions:', labels.shape)\n",
        "    break"
      ],
      "execution_count": null,
      "outputs": [
        {
          "output_type": "stream",
          "name": "stdout",
          "text": [
            "Image batch dimensions: torch.Size([64, 3, 32, 32])\n",
            "Image label dimensions: torch.Size([64])\n"
          ]
        }
      ]
    },
    {
      "cell_type": "code",
      "metadata": {
        "id": "T8qhbCCUmvQk"
      },
      "source": [
        "### Model settings###\n",
        "\n",
        "# Hyperparameters\n",
        "learning_rate = 0.01\n",
        "\n",
        "# Architecture\n",
        "num_classes = 10\n"
      ],
      "execution_count": null,
      "outputs": []
    },
    {
      "cell_type": "markdown",
      "metadata": {
        "id": "IIbudJDco2K_"
      },
      "source": [
        "#Resnet "
      ]
    },
    {
      "cell_type": "markdown",
      "metadata": {
        "id": "5-5CzYPtngVE"
      },
      "source": [
        "![Untitled.png](data:image/png;base64,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)"
      ]
    },
    {
      "cell_type": "code",
      "metadata": {
        "id": "INqexsn1o0Km"
      },
      "source": [
        "class ResNet(torch.nn.Module):\n",
        "\n",
        "    def __init__(self, num_classes = 10):\n",
        "        super(ResNet, self).__init__()\n",
        "        \n",
        "        # 1st residual block#\n",
        "        #########################################################################\n",
        "        # 32x32x3 => 16x16x32\n",
        "        self.conv1 = torch.nn.Conv2d(in_channels=3,\n",
        "                                      out_channels=32,\n",
        "                                      kernel_size=(3, 3),\n",
        "                                      stride=(2, 2),\n",
        "                                      padding=1)\n",
        "        self.conv1_bn = torch.nn.BatchNorm2d(32)\n",
        "                                    \n",
        "        # 16x16x32 => 16x16x64\n",
        "        self.conv2 = torch.nn.Conv2d(in_channels=32,\n",
        "                                      out_channels=64,\n",
        "                                      kernel_size=(1, 1),\n",
        "                                      stride=(1, 1),\n",
        "                                      padding=0)   \n",
        "        self.conv2_bn = torch.nn.BatchNorm2d(64)\n",
        "\n",
        "        \n",
        "        \n",
        "        # 32x32x3 => 16x16x64\n",
        "        self.conv_shortcut1 = torch.nn.Conv2d(in_channels=3,\n",
        "                                               out_channels=64,\n",
        "                                               kernel_size=(1, 1),\n",
        "                                               stride=(2, 2),\n",
        "                                               padding=0)   \n",
        "        self.conv_shortcut1_bn = torch.nn.BatchNorm2d(64)\n",
        "        ############################################################################\n",
        "    \n",
        "        #2nd residual block#\n",
        "        ###########################################################################\n",
        "        # 16x16x64 => 8x8x128\n",
        "        self.conv3 = torch.nn.Conv2d(in_channels=64,\n",
        "                                      out_channels=128,\n",
        "                                      kernel_size=(3, 3),\n",
        "                                      stride=(2, 2),\n",
        "                                      padding=1)\n",
        "        self.conv3_bn = torch.nn.BatchNorm2d(128)\n",
        "                                    \n",
        "        # 8x8x128 => 8x8x256\n",
        "        self.conv4 = torch.nn.Conv2d(in_channels=128,\n",
        "                                      out_channels=256,\n",
        "                                      kernel_size=(1, 1),\n",
        "                                      stride=(1, 1),\n",
        "                                      padding=0)   \n",
        "        self.conv4_bn = torch.nn.BatchNorm2d(256)\n",
        "        \n",
        "        # 16x16x64 => 8x8x256 \n",
        "        self.conv_shortcut2 = torch.nn.Conv2d(in_channels=64,\n",
        "                                               out_channels=256,\n",
        "                                               kernel_size=(1, 1),\n",
        "                                               stride=(2, 2),\n",
        "                                               padding=0)   \n",
        "        self.conv_shortcut2_bn = torch.nn.BatchNorm2d(256)\n",
        "        ############################################################################\n",
        "\n",
        "\n",
        "        # Fully connected\n",
        "        #########################        \n",
        "        self.linear_1 = torch.nn.Linear(8*8*256, num_classes)\n",
        "\n",
        "    def forward(self, x):\n",
        "        \n",
        "        #########################\n",
        "        ### 1st residual block\n",
        "        #########################\n",
        "        shortcut = x\n",
        "        \n",
        "        out = self.conv1(x) # 32x32x3 => 16x16x32\n",
        "        out = self.conv1_bn(out)\n",
        "        out = F.relu(out)\n",
        "\n",
        "        out = self.conv2(out) # 16x16x32 => 16x16x64\n",
        "        out = self.conv2_bn(out)\n",
        "        \n",
        "        # match up dimensions using a linear function (no relu)\n",
        "        shortcut = self.conv_shortcut1(shortcut)\n",
        "        shortcut = self.conv_shortcut1_bn(shortcut)\n",
        "        \n",
        "        out += shortcut\n",
        "        out = F.relu(out)\n",
        "        \n",
        "        #########################\n",
        "        ### 2nd residual block\n",
        "        #########################\n",
        "        \n",
        "        shortcut = out\n",
        "        \n",
        "        out = self.conv3(out) # 16x16x64 => 8x8x128\n",
        "        out = self.conv3_bn(out)\n",
        "        out = F.relu(out)\n",
        "\n",
        "        out = self.conv4(out) # 8x8x128 => 8x8x256\n",
        "        out = self.conv4_bn(out)\n",
        "\n",
        "        # match up dimensions using a linear function (no relu)\n",
        "        shortcut = self.conv_shortcut2(shortcut)\n",
        "        shortcut = self.conv_shortcut2_bn(shortcut)\n",
        "        \n",
        "        out += shortcut\n",
        "        out = F.relu(out)\n",
        "        \n",
        "        #########################\n",
        "        ### Fully connected\n",
        "        #########################   \n",
        "        logits = self.linear_1(out.view(-1, 8*8*256))\n",
        "        probas = F.softmax(logits, dim=1)\n",
        "        return logits, probas"
      ],
      "execution_count": null,
      "outputs": []
    },
    {
      "cell_type": "code",
      "metadata": {
        "id": "9jJLlVc2qhz9"
      },
      "source": [
        "# Initialize the model\n",
        "model = ResNet()"
      ],
      "execution_count": null,
      "outputs": []
    },
    {
      "cell_type": "code",
      "metadata": {
        "id": "vIbIMaRe1urB",
        "colab": {
          "base_uri": "https://localhost:8080/"
        },
        "outputId": "28525e8e-e28b-4088-d235-236601242110"
      },
      "source": [
        "def count_parameters(model):\n",
        "    return sum(p.numel() for p in model.parameters() if p.requires_grad)\n",
        "\n",
        "print(f'The model has {count_parameters(model):,} trainable parameters')"
      ],
      "execution_count": null,
      "outputs": [
        {
          "output_type": "stream",
          "name": "stdout",
          "text": [
            "The model has 292,234 trainable parameters\n"
          ]
        }
      ]
    },
    {
      "cell_type": "code",
      "metadata": {
        "id": "ThXeayWV1urG"
      },
      "source": [
        "optimizer = torch.optim.Adam(model.parameters(), lr=learning_rate)"
      ],
      "execution_count": null,
      "outputs": []
    },
    {
      "cell_type": "code",
      "metadata": {
        "id": "S-VuiCyngd4Z"
      },
      "source": [
        "lossfn = nn.CrossEntropyLoss()"
      ],
      "execution_count": null,
      "outputs": []
    },
    {
      "cell_type": "code",
      "metadata": {
        "id": "lUg8vwkd1urL",
        "colab": {
          "base_uri": "https://localhost:8080/"
        },
        "outputId": "8ea1ace3-882f-4079-d66b-4eb600a10d8c"
      },
      "source": [
        "if torch.cuda.is_available():\n",
        "  print('cuda available! using cuda..')\n",
        "else:\n",
        "  print('cuda not available! using cpu..')    \n",
        "\n",
        "device = torch.device('cuda' if torch.cuda.is_available() else 'cpu')"
      ],
      "execution_count": null,
      "outputs": [
        {
          "output_type": "stream",
          "name": "stdout",
          "text": [
            "cuda available! using cuda..\n"
          ]
        }
      ]
    },
    {
      "cell_type": "code",
      "metadata": {
        "id": "FZbs1fF81urP"
      },
      "source": [
        "model = model.to(device)\n",
        "lossfn = lossfn.to(device)"
      ],
      "execution_count": null,
      "outputs": []
    },
    {
      "cell_type": "code",
      "metadata": {
        "id": "8iXZdFow1urV"
      },
      "source": [
        "def epoch_time(start_time, end_time):\n",
        "    elapsed_time = end_time - start_time\n",
        "    elapsed_mins = int(elapsed_time / 60)\n",
        "    elapsed_secs = int(elapsed_time - (elapsed_mins * 60))\n",
        "    return elapsed_mins, elapsed_secs"
      ],
      "execution_count": null,
      "outputs": []
    },
    {
      "cell_type": "code",
      "metadata": {
        "id": "YMGpes-F1urh"
      },
      "source": [
        "# Compute the Accuracy\n",
        "def compute_accuracy(model, data_loader):\n",
        "    correct_pred, num_examples = 0, 0\n",
        "    for i, (features, targets) in enumerate(data_loader):            \n",
        "        features = features.to(device)\n",
        "        targets = targets.to(device)\n",
        "        logits, probas = model(features)\n",
        "        _, predicted_labels = torch.max(probas, 1)\n",
        "        num_examples += targets.size(0)\n",
        "        correct_pred += (predicted_labels == targets).sum()\n",
        "    return correct_pred.float()/num_examples * 100"
      ],
      "execution_count": null,
      "outputs": []
    },
    {
      "cell_type": "code",
      "metadata": {
        "id": "tnLTUuaegxOH"
      },
      "source": [
        "def train(model, iterator, optimizer, criterion, device):\n",
        "    \n",
        "    epoch_loss = 0\n",
        "    \n",
        "    model.train()\n",
        "    \n",
        "    for (x, y) in iterator:\n",
        "        \n",
        "        x = x.to(device)\n",
        "        y = y.to(device)\n",
        "        \n",
        "        optimizer.zero_grad()\n",
        "                \n",
        "        y_pred_logits, y_pred_probas = model(x)\n",
        "        \n",
        "        loss = lossfn(y_pred_logits, y)\n",
        "        \n",
        "        \n",
        "        loss.backward()\n",
        "        \n",
        "        optimizer.step()\n",
        "        \n",
        "        epoch_loss += loss.item()\n",
        "    \n",
        "    return epoch_loss / len(iterator)"
      ],
      "execution_count": null,
      "outputs": []
    },
    {
      "cell_type": "code",
      "metadata": {
        "id": "yD0yS9cpg5lp",
        "colab": {
          "base_uri": "https://localhost:8080/"
        },
        "outputId": "48daaab3-55e0-43f8-ae2d-6dcd0c112718"
      },
      "source": [
        "save_model = False\n",
        "patience_early_stopping = 3  #training will stop if model performance does not improve for these many consecutive epochs\n",
        "cnt = 0 #counter for checking patience level\n",
        "EPOCHS = 100\n",
        "prev_test_acc = 0 #initializing prev test accuracy for early stopping condition\n",
        "scheduler = lr_scheduler.ReduceLROnPlateau(optimizer, mode = 'max', factor = 0.2, patience = 1) #learning rate scheduler, update learning rate by \n",
        "#factor of 0.2 if test accuracy does not improve for patience+1 consecutive epochs\n",
        "for epoch in range(EPOCHS):\n",
        "    print(\"current learning rate\", optimizer.state_dict()['param_groups'][0]['lr'])\n",
        "    start_time = time.perf_counter()\n",
        "    \n",
        "    train_loss = train(model, train_loader, optimizer, lossfn, device)\n",
        "    train_acc = compute_accuracy(model, train_loader)\n",
        "\n",
        "    if save_model:\n",
        "        torch.save(model.state_dict(), 'resnet_model.pt')\n",
        "    \n",
        "    if epoch%1==0: #for every epoch we shall compute the test accuracy\n",
        "        test_acc = compute_accuracy(model, test_loader)\n",
        "        \n",
        "        if test_acc > prev_test_acc: #check if test accuracy for current epoch has improved compared to previous epoch\n",
        "          cnt = 0                    #f accuracy improves reset counter to 0\n",
        "\n",
        "        else:                        #otherwise increment current counter\n",
        "          cnt += 1\n",
        "\n",
        "        prev_test_acc = test_acc\n",
        "\n",
        "    \n",
        "    scheduler.step(test_acc) #updates learning rate\n",
        "    \n",
        "        \n",
        "    end_time = time.perf_counter()\n",
        "\n",
        "    epoch_mins, epoch_secs = epoch_time(start_time, end_time)\n",
        "    \n",
        "    print(f'Epoch: {epoch+1:2} | Epoch Time: {epoch_mins}m {epoch_secs}s')\n",
        "    print(f'\\tTrain Loss: {train_loss:.3f} | Train Acc: {train_acc:.2f}%')\n",
        "    if epoch%1==0: #for every epoch we shall print the test loss and test accuracy \n",
        "        print(f'\\t test Acc: {test_acc:.2f}% \\n')\n",
        "\n",
        "    if cnt == patience_early_stopping:\n",
        "      print(f\"early stopping as test accuracy did not improve for {patience_early_stopping} consecutive epochs\")\n",
        "      break"
      ],
      "execution_count": null,
      "outputs": [
        {
          "output_type": "stream",
          "name": "stdout",
          "text": [
            "current learning rate 0.01\n",
            "Epoch:  1 | Epoch Time: 0m 43s\n",
            "\tTrain Loss: 1.980 | Train Acc: 53.44%\n",
            "\t test Acc: 50.78% \n",
            "\n",
            "current learning rate 0.01\n",
            "Epoch:  2 | Epoch Time: 0m 43s\n",
            "\tTrain Loss: 1.278 | Train Acc: 59.85%\n",
            "\t test Acc: 56.50% \n",
            "\n",
            "current learning rate 0.01\n",
            "Epoch:  3 | Epoch Time: 0m 43s\n",
            "\tTrain Loss: 1.139 | Train Acc: 64.12%\n",
            "\t test Acc: 58.84% \n",
            "\n",
            "current learning rate 0.01\n",
            "Epoch:  4 | Epoch Time: 0m 43s\n",
            "\tTrain Loss: 1.045 | Train Acc: 67.47%\n",
            "\t test Acc: 60.88% \n",
            "\n",
            "current learning rate 0.01\n",
            "Epoch:  5 | Epoch Time: 0m 43s\n",
            "\tTrain Loss: 0.975 | Train Acc: 70.14%\n",
            "\t test Acc: 61.93% \n",
            "\n",
            "current learning rate 0.01\n",
            "Epoch:  6 | Epoch Time: 0m 43s\n",
            "\tTrain Loss: 0.924 | Train Acc: 71.28%\n",
            "\t test Acc: 61.75% \n",
            "\n",
            "current learning rate 0.01\n",
            "Epoch:  7 | Epoch Time: 0m 43s\n",
            "\tTrain Loss: 0.871 | Train Acc: 72.11%\n",
            "\t test Acc: 61.57% \n",
            "\n",
            "current learning rate 0.002\n",
            "Epoch:  8 | Epoch Time: 0m 43s\n",
            "\tTrain Loss: 0.625 | Train Acc: 82.09%\n",
            "\t test Acc: 64.95% \n",
            "\n",
            "current learning rate 0.002\n",
            "Epoch:  9 | Epoch Time: 0m 43s\n",
            "\tTrain Loss: 0.551 | Train Acc: 84.77%\n",
            "\t test Acc: 65.07% \n",
            "\n",
            "current learning rate 0.002\n",
            "Epoch: 10 | Epoch Time: 0m 43s\n",
            "\tTrain Loss: 0.492 | Train Acc: 86.54%\n",
            "\t test Acc: 64.63% \n",
            "\n",
            "current learning rate 0.002\n",
            "Epoch: 11 | Epoch Time: 0m 44s\n",
            "\tTrain Loss: 0.437 | Train Acc: 88.76%\n",
            "\t test Acc: 64.95% \n",
            "\n",
            "current learning rate 0.0004\n",
            "Epoch: 12 | Epoch Time: 0m 43s\n",
            "\tTrain Loss: 0.325 | Train Acc: 91.06%\n",
            "\t test Acc: 65.06% \n",
            "\n",
            "current learning rate 0.0004\n",
            "Epoch: 13 | Epoch Time: 0m 43s\n",
            "\tTrain Loss: 0.297 | Train Acc: 91.76%\n",
            "\t test Acc: 65.19% \n",
            "\n",
            "current learning rate 0.0004\n",
            "Epoch: 14 | Epoch Time: 0m 42s\n",
            "\tTrain Loss: 0.278 | Train Acc: 92.55%\n",
            "\t test Acc: 65.36% \n",
            "\n",
            "current learning rate 0.0004\n",
            "Epoch: 15 | Epoch Time: 0m 43s\n",
            "\tTrain Loss: 0.260 | Train Acc: 93.23%\n",
            "\t test Acc: 64.92% \n",
            "\n",
            "current learning rate 0.0004\n",
            "Epoch: 16 | Epoch Time: 0m 43s\n",
            "\tTrain Loss: 0.241 | Train Acc: 93.76%\n",
            "\t test Acc: 64.88% \n",
            "\n",
            "current learning rate 8e-05\n",
            "Epoch: 17 | Epoch Time: 0m 43s\n",
            "\tTrain Loss: 0.213 | Train Acc: 94.12%\n",
            "\t test Acc: 64.86% \n",
            "\n",
            "early stopping as test accuracy did not improve for 3 consecutive epochs\n"
          ]
        }
      ]
    },
    {
      "cell_type": "code",
      "metadata": {
        "id": "v_XrG2kEPXim"
      },
      "source": [
        ""
      ],
      "execution_count": null,
      "outputs": []
    }
  ]
}