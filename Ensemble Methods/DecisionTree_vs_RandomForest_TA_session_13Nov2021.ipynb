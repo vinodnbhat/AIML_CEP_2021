{
  "nbformat": 4,
  "nbformat_minor": 0,
  "metadata": {
    "colab": {
      "name": "DecisionTree_vs_RandomForest_TA_session_13Nov2021.ipynb",
      "provenance": [],
      "collapsed_sections": [],
      "include_colab_link": true
    },
    "kernelspec": {
      "name": "python3",
      "display_name": "Python 3"
    },
    "language_info": {
      "name": "python"
    }
  },
  "cells": [
    {
      "cell_type": "markdown",
      "metadata": {
        "id": "view-in-github",
        "colab_type": "text"
      },
      "source": [
        "<a href=\"https://colab.research.google.com/github/balamurugan-palaniappan-CEP/AIML_CEP_2021/blob/main/DecisionTree_vs_RandomForest_TA_session_13Nov2021.ipynb\" target=\"_parent\"><img src=\"https://colab.research.google.com/assets/colab-badge.svg\" alt=\"Open In Colab\"/></a>"
      ]
    },
    {
      "cell_type": "markdown",
      "metadata": {
        "id": "gfH3ez32gU_E"
      },
      "source": [
        "$\\Large{\\text{Performance of Random Forest and Decision tree}}$ "
      ]
    },
    {
      "cell_type": "code",
      "metadata": {
        "id": "J5c_jPIZ82v7"
      },
      "source": [
        "import numpy as np #numpy package will be useful for most of the array operations in the code \n",
        "from sklearn.datasets import load_breast_cancer"
      ],
      "execution_count": null,
      "outputs": []
    },
    {
      "cell_type": "code",
      "metadata": {
        "id": "qrvCgCG2N09e"
      },
      "source": [
        "#Let us load the breast cancer data and store the result in X_y variable. The idea behind naming of the variable will be illustrated in the next few tabs.\n",
        "X_y = load_breast_cancer()"
      ],
      "execution_count": null,
      "outputs": []
    },
    {
      "cell_type": "code",
      "metadata": {
        "colab": {
          "base_uri": "https://localhost:8080/"
        },
        "id": "W3QIaxSxN3uZ",
        "outputId": "8944ff57-7f31-46e2-e200-2fe90ff91553"
      },
      "source": [
        "#Let us print the contents of the X_y variable \n",
        "\n",
        "print(type(X_y))\n",
        "print(X_y)"
      ],
      "execution_count": null,
      "outputs": [
        {
          "output_type": "stream",
          "name": "stdout",
          "text": [
            "<class 'sklearn.utils.Bunch'>\n",
            "{'data': array([[1.799e+01, 1.038e+01, 1.228e+02, ..., 2.654e-01, 4.601e-01,\n",
            "        1.189e-01],\n",
            "       [2.057e+01, 1.777e+01, 1.329e+02, ..., 1.860e-01, 2.750e-01,\n",
            "        8.902e-02],\n",
            "       [1.969e+01, 2.125e+01, 1.300e+02, ..., 2.430e-01, 3.613e-01,\n",
            "        8.758e-02],\n",
            "       ...,\n",
            "       [1.660e+01, 2.808e+01, 1.083e+02, ..., 1.418e-01, 2.218e-01,\n",
            "        7.820e-02],\n",
            "       [2.060e+01, 2.933e+01, 1.401e+02, ..., 2.650e-01, 4.087e-01,\n",
            "        1.240e-01],\n",
            "       [7.760e+00, 2.454e+01, 4.792e+01, ..., 0.000e+00, 2.871e-01,\n",
            "        7.039e-02]]), 'target': array([0, 0, 0, 0, 0, 0, 0, 0, 0, 0, 0, 0, 0, 0, 0, 0, 0, 0, 0, 1, 1, 1,\n",
            "       0, 0, 0, 0, 0, 0, 0, 0, 0, 0, 0, 0, 0, 0, 0, 1, 0, 0, 0, 0, 0, 0,\n",
            "       0, 0, 1, 0, 1, 1, 1, 1, 1, 0, 0, 1, 0, 0, 1, 1, 1, 1, 0, 1, 0, 0,\n",
            "       1, 1, 1, 1, 0, 1, 0, 0, 1, 0, 1, 0, 0, 1, 1, 1, 0, 0, 1, 0, 0, 0,\n",
            "       1, 1, 1, 0, 1, 1, 0, 0, 1, 1, 1, 0, 0, 1, 1, 1, 1, 0, 1, 1, 0, 1,\n",
            "       1, 1, 1, 1, 1, 1, 1, 0, 0, 0, 1, 0, 0, 1, 1, 1, 0, 0, 1, 0, 1, 0,\n",
            "       0, 1, 0, 0, 1, 1, 0, 1, 1, 0, 1, 1, 1, 1, 0, 1, 1, 1, 1, 1, 1, 1,\n",
            "       1, 1, 0, 1, 1, 1, 1, 0, 0, 1, 0, 1, 1, 0, 0, 1, 1, 0, 0, 1, 1, 1,\n",
            "       1, 0, 1, 1, 0, 0, 0, 1, 0, 1, 0, 1, 1, 1, 0, 1, 1, 0, 0, 1, 0, 0,\n",
            "       0, 0, 1, 0, 0, 0, 1, 0, 1, 0, 1, 1, 0, 1, 0, 0, 0, 0, 1, 1, 0, 0,\n",
            "       1, 1, 1, 0, 1, 1, 1, 1, 1, 0, 0, 1, 1, 0, 1, 1, 0, 0, 1, 0, 1, 1,\n",
            "       1, 1, 0, 1, 1, 1, 1, 1, 0, 1, 0, 0, 0, 0, 0, 0, 0, 0, 0, 0, 0, 0,\n",
            "       0, 0, 1, 1, 1, 1, 1, 1, 0, 1, 0, 1, 1, 0, 1, 1, 0, 1, 0, 0, 1, 1,\n",
            "       1, 1, 1, 1, 1, 1, 1, 1, 1, 1, 1, 0, 1, 1, 0, 1, 0, 1, 1, 1, 1, 1,\n",
            "       1, 1, 1, 1, 1, 1, 1, 1, 1, 0, 1, 1, 1, 0, 1, 0, 1, 1, 1, 1, 0, 0,\n",
            "       0, 1, 1, 1, 1, 0, 1, 0, 1, 0, 1, 1, 1, 0, 1, 1, 1, 1, 1, 1, 1, 0,\n",
            "       0, 0, 1, 1, 1, 1, 1, 1, 1, 1, 1, 1, 1, 0, 0, 1, 0, 0, 0, 1, 0, 0,\n",
            "       1, 1, 1, 1, 1, 0, 1, 1, 1, 1, 1, 0, 1, 1, 1, 0, 1, 1, 0, 0, 1, 1,\n",
            "       1, 1, 1, 1, 0, 1, 1, 1, 1, 1, 1, 1, 0, 1, 1, 1, 1, 1, 0, 1, 1, 0,\n",
            "       1, 1, 1, 1, 1, 1, 1, 1, 1, 1, 1, 1, 0, 1, 0, 0, 1, 0, 1, 1, 1, 1,\n",
            "       1, 0, 1, 1, 0, 1, 0, 1, 1, 0, 1, 0, 1, 1, 1, 1, 1, 1, 1, 1, 0, 0,\n",
            "       1, 1, 1, 1, 1, 1, 0, 1, 1, 1, 1, 1, 1, 1, 1, 1, 1, 0, 1, 1, 1, 1,\n",
            "       1, 1, 1, 0, 1, 0, 1, 1, 0, 1, 1, 1, 1, 1, 0, 0, 1, 0, 1, 0, 1, 1,\n",
            "       1, 1, 1, 0, 1, 1, 0, 1, 0, 1, 0, 0, 1, 1, 1, 0, 1, 1, 1, 1, 1, 1,\n",
            "       1, 1, 1, 1, 1, 0, 1, 0, 0, 1, 1, 1, 1, 1, 1, 1, 1, 1, 1, 1, 1, 1,\n",
            "       1, 1, 1, 1, 1, 1, 1, 1, 1, 1, 1, 1, 0, 0, 0, 0, 0, 0, 1]), 'target_names': array(['malignant', 'benign'], dtype='<U9'), 'DESCR': '.. _breast_cancer_dataset:\\n\\nBreast cancer wisconsin (diagnostic) dataset\\n--------------------------------------------\\n\\n**Data Set Characteristics:**\\n\\n    :Number of Instances: 569\\n\\n    :Number of Attributes: 30 numeric, predictive attributes and the class\\n\\n    :Attribute Information:\\n        - radius (mean of distances from center to points on the perimeter)\\n        - texture (standard deviation of gray-scale values)\\n        - perimeter\\n        - area\\n        - smoothness (local variation in radius lengths)\\n        - compactness (perimeter^2 / area - 1.0)\\n        - concavity (severity of concave portions of the contour)\\n        - concave points (number of concave portions of the contour)\\n        - symmetry \\n        - fractal dimension (\"coastline approximation\" - 1)\\n\\n        The mean, standard error, and \"worst\" or largest (mean of the three\\n        largest values) of these features were computed for each image,\\n        resulting in 30 features.  For instance, field 3 is Mean Radius, field\\n        13 is Radius SE, field 23 is Worst Radius.\\n\\n        - class:\\n                - WDBC-Malignant\\n                - WDBC-Benign\\n\\n    :Summary Statistics:\\n\\n    ===================================== ====== ======\\n                                           Min    Max\\n    ===================================== ====== ======\\n    radius (mean):                        6.981  28.11\\n    texture (mean):                       9.71   39.28\\n    perimeter (mean):                     43.79  188.5\\n    area (mean):                          143.5  2501.0\\n    smoothness (mean):                    0.053  0.163\\n    compactness (mean):                   0.019  0.345\\n    concavity (mean):                     0.0    0.427\\n    concave points (mean):                0.0    0.201\\n    symmetry (mean):                      0.106  0.304\\n    fractal dimension (mean):             0.05   0.097\\n    radius (standard error):              0.112  2.873\\n    texture (standard error):             0.36   4.885\\n    perimeter (standard error):           0.757  21.98\\n    area (standard error):                6.802  542.2\\n    smoothness (standard error):          0.002  0.031\\n    compactness (standard error):         0.002  0.135\\n    concavity (standard error):           0.0    0.396\\n    concave points (standard error):      0.0    0.053\\n    symmetry (standard error):            0.008  0.079\\n    fractal dimension (standard error):   0.001  0.03\\n    radius (worst):                       7.93   36.04\\n    texture (worst):                      12.02  49.54\\n    perimeter (worst):                    50.41  251.2\\n    area (worst):                         185.2  4254.0\\n    smoothness (worst):                   0.071  0.223\\n    compactness (worst):                  0.027  1.058\\n    concavity (worst):                    0.0    1.252\\n    concave points (worst):               0.0    0.291\\n    symmetry (worst):                     0.156  0.664\\n    fractal dimension (worst):            0.055  0.208\\n    ===================================== ====== ======\\n\\n    :Missing Attribute Values: None\\n\\n    :Class Distribution: 212 - Malignant, 357 - Benign\\n\\n    :Creator:  Dr. William H. Wolberg, W. Nick Street, Olvi L. Mangasarian\\n\\n    :Donor: Nick Street\\n\\n    :Date: November, 1995\\n\\nThis is a copy of UCI ML Breast Cancer Wisconsin (Diagnostic) datasets.\\nhttps://goo.gl/U2Uwz2\\n\\nFeatures are computed from a digitized image of a fine needle\\naspirate (FNA) of a breast mass.  They describe\\ncharacteristics of the cell nuclei present in the image.\\n\\nSeparating plane described above was obtained using\\nMultisurface Method-Tree (MSM-T) [K. P. Bennett, \"Decision Tree\\nConstruction Via Linear Programming.\" Proceedings of the 4th\\nMidwest Artificial Intelligence and Cognitive Science Society,\\npp. 97-101, 1992], a classification method which uses linear\\nprogramming to construct a decision tree.  Relevant features\\nwere selected using an exhaustive search in the space of 1-4\\nfeatures and 1-3 separating planes.\\n\\nThe actual linear program used to obtain the separating plane\\nin the 3-dimensional space is that described in:\\n[K. P. Bennett and O. L. Mangasarian: \"Robust Linear\\nProgramming Discrimination of Two Linearly Inseparable Sets\",\\nOptimization Methods and Software 1, 1992, 23-34].\\n\\nThis database is also available through the UW CS ftp server:\\n\\nftp ftp.cs.wisc.edu\\ncd math-prog/cpo-dataset/machine-learn/WDBC/\\n\\n.. topic:: References\\n\\n   - W.N. Street, W.H. Wolberg and O.L. Mangasarian. Nuclear feature extraction \\n     for breast tumor diagnosis. IS&T/SPIE 1993 International Symposium on \\n     Electronic Imaging: Science and Technology, volume 1905, pages 861-870,\\n     San Jose, CA, 1993.\\n   - O.L. Mangasarian, W.N. Street and W.H. Wolberg. Breast cancer diagnosis and \\n     prognosis via linear programming. Operations Research, 43(4), pages 570-577, \\n     July-August 1995.\\n   - W.H. Wolberg, W.N. Street, and O.L. Mangasarian. Machine learning techniques\\n     to diagnose breast cancer from fine-needle aspirates. Cancer Letters 77 (1994) \\n     163-171.', 'feature_names': array(['mean radius', 'mean texture', 'mean perimeter', 'mean area',\n",
            "       'mean smoothness', 'mean compactness', 'mean concavity',\n",
            "       'mean concave points', 'mean symmetry', 'mean fractal dimension',\n",
            "       'radius error', 'texture error', 'perimeter error', 'area error',\n",
            "       'smoothness error', 'compactness error', 'concavity error',\n",
            "       'concave points error', 'symmetry error',\n",
            "       'fractal dimension error', 'worst radius', 'worst texture',\n",
            "       'worst perimeter', 'worst area', 'worst smoothness',\n",
            "       'worst compactness', 'worst concavity', 'worst concave points',\n",
            "       'worst symmetry', 'worst fractal dimension'], dtype='<U23'), 'filename': '/usr/local/lib/python3.7/dist-packages/sklearn/datasets/data/breast_cancer.csv'}\n"
          ]
        }
      ]
    },
    {
      "cell_type": "code",
      "metadata": {
        "colab": {
          "base_uri": "https://localhost:8080/"
        },
        "id": "B5iDyIymN7Mg",
        "outputId": "866447cc-d40d-4f8d-9a4e-aedcb884ee94"
      },
      "source": [
        "\n",
        "# Let us now segregate the data attributes and class labels into separate variables \n",
        "\n",
        "X = X_y.data\n",
        "y = X_y.target\n",
        "\n",
        "print('X shape:', X.shape, 'type(X):', type(X) )\n",
        "print(' y shape:', y.shape, ' type(y):', type(y))"
      ],
      "execution_count": null,
      "outputs": [
        {
          "output_type": "stream",
          "name": "stdout",
          "text": [
            "X shape: (569, 30) type(X): <class 'numpy.ndarray'>\n",
            " y shape: (569,)  type(y): <class 'numpy.ndarray'>\n"
          ]
        }
      ]
    },
    {
      "cell_type": "code",
      "metadata": {
        "id": "bSfRgUvYcipO"
      },
      "source": [
        "#In the following code, we create a nx1 vector of target labels \n",
        "y = np.where(y ==1,y,-1)"
      ],
      "execution_count": null,
      "outputs": []
    },
    {
      "cell_type": "code",
      "metadata": {
        "colab": {
          "base_uri": "https://localhost:8080/"
        },
        "id": "O4KxppCQN_Pr",
        "outputId": "f7105862-e68e-4d11-bf35-680e9b8fddc1"
      },
      "source": [
        "#Thus we see that X and y are numpy ndarrays. \n",
        "#We also see that there are 569 samples (or instances) in the data set and each sample has 30 attributes. \n",
        "#The shape of target variable y indicates that y contains the labels for these 569 samples\n",
        "\n",
        "#We can print the unique labels available in y \n",
        "print(np.unique(y))\n",
        "# print (y)"
      ],
      "execution_count": null,
      "outputs": [
        {
          "output_type": "stream",
          "name": "stdout",
          "text": [
            "[-1  1]\n"
          ]
        }
      ]
    },
    {
      "cell_type": "code",
      "metadata": {
        "id": "S9by3ooWWvsy"
      },
      "source": [
        "np.random.seed(1000)\n",
        "#Create an index array \n",
        "num_samples = X.shape[0]\n",
        "# print (num_samples)\n",
        "indexarr = np.arange(num_samples) #index array\n",
        "np.random.shuffle(indexarr) #shuffle the indices \n",
        "#print('shuffled indices of samples:')\n",
        "#print(indexarr)"
      ],
      "execution_count": null,
      "outputs": []
    },
    {
      "cell_type": "code",
      "metadata": {
        "colab": {
          "base_uri": "https://localhost:8080/"
        },
        "id": "9uPT5KOvWycn",
        "outputId": "53b23cc5-2b12-4a77-c800-c3afc86c49e9"
      },
      "source": [
        "#Use the samples corresponding to first 80% of indexarr for training \n",
        "num_train = int(0.8*num_samples)\n",
        "#Use the remaining 20% samples for testing \n",
        "num_test = num_samples-num_train\n",
        "print('num_train: ',num_train, 'num_test: ', num_test)"
      ],
      "execution_count": null,
      "outputs": [
        {
          "output_type": "stream",
          "name": "stdout",
          "text": [
            "num_train:  455 num_test:  114\n"
          ]
        }
      ]
    },
    {
      "cell_type": "code",
      "metadata": {
        "colab": {
          "base_uri": "https://localhost:8080/"
        },
        "id": "0mZ6_O4jW01e",
        "outputId": "42c8b6b3-f6ce-438d-f13a-f26e43fdfa78"
      },
      "source": [
        "#Use the first 80% of indexarr to create the train data features and train labels \n",
        "train_X = X[indexarr[0:num_train]]\n",
        "train_y = y[indexarr[0:num_train]]\n",
        "print('shape of train data features:')\n",
        "print(train_X.shape)\n",
        "print('shape of train data labels')\n",
        "print(train_y.shape)"
      ],
      "execution_count": null,
      "outputs": [
        {
          "output_type": "stream",
          "name": "stdout",
          "text": [
            "shape of train data features:\n",
            "(455, 30)\n",
            "shape of train data labels\n",
            "(455,)\n"
          ]
        }
      ]
    },
    {
      "cell_type": "code",
      "metadata": {
        "colab": {
          "base_uri": "https://localhost:8080/"
        },
        "id": "M79SAdaEW3KD",
        "outputId": "c0f66494-597b-4609-db4c-499f884a5151"
      },
      "source": [
        "#Use remaining 20% of indexarr to create the test data and test labels  \n",
        "test_X = X[indexarr[num_train:num_samples]]\n",
        "test_y = y[indexarr[num_train:num_samples]]\n",
        "print('shape of test data features:')\n",
        "print(test_X.shape)\n",
        "print('shape of test data labels')\n",
        "print(test_y.shape)"
      ],
      "execution_count": null,
      "outputs": [
        {
          "output_type": "stream",
          "name": "stdout",
          "text": [
            "shape of test data features:\n",
            "(114, 30)\n",
            "shape of test data labels\n",
            "(114,)\n"
          ]
        }
      ]
    },
    {
      "cell_type": "code",
      "metadata": {
        "id": "Ty9A7B-B_9Em",
        "colab": {
          "base_uri": "https://localhost:8080/",
          "height": 910
        },
        "outputId": "9fae85e9-1183-451a-81e1-3a09f61a0a00"
      },
      "source": [
        "from urllib.request import urlopen\n",
        "from PIL import Image\n",
        "\n",
        "img = Image.open(urlopen('https://github.com/balamurugan-palaniappan-CEP/AIML_CEP_2021/raw/main/images/ensemble_classifier_RF.png'))\n",
        "img"
      ],
      "execution_count": null,
      "outputs": [
        {
          "output_type": "execute_result",
          "data": {
            "image/png": "[encoded data removed]",
            "text/plain": [
              "<PIL.PngImagePlugin.PngImageFile image mode=RGB size=868x893 at 0x7FD504DB0790>"
            ]
          },
          "metadata": {},
          "execution_count": 11
        }
      ]
    },
    {
      "cell_type": "code",
      "metadata": {
        "colab": {
          "base_uri": "https://localhost:8080/"
        },
        "id": "__L7Mp4OeZEs",
        "outputId": "b972aac0-86ca-4ef7-b6fd-3e13ff792921"
      },
      "source": [
        "#Let us now use cross validation to find random forest hyperparameters.\n",
        "# We will first find best max depths for a given set of estimators\n",
        "from sklearn.ensemble import RandomForestClassifier\n",
        "from sklearn.model_selection import cross_val_score\n",
        "import math\n",
        "import numpy as np\n",
        "\n",
        "num_features = X.shape[1]\n",
        "estimators = [5, 10,50,100,150,200]\n",
        "constant = math.sqrt(num_features)\n",
        "max_depth = constant*np.array([0.25,0.5, 0.75,1,1.25,1.50,1.75,2])\n",
        "max_depth = np.ceil(max_depth)\n",
        "print ('maximum depth', max_depth)\n",
        "best_depth = {}\n",
        "cv_k = 5 #5-fold cross validation\n",
        "for n_estimate in estimators:\n",
        "  avg_score = np.zeros(len(max_depth))\n",
        "  # print (avg_score)\n",
        "  for depth in max_depth:\n",
        "    clf_rf = RandomForestClassifier(n_estimators = n_estimate,max_depth = depth,  random_state=0)\n",
        "    scores = cross_val_score(clf_rf, train_X, train_y, cv=cv_k) \n",
        "    # print ('scores',scores)\n",
        "    avg_score[np.where(max_depth==depth)] = np.mean(scores)\n",
        "\n",
        "  # print ('avg score',avg_score)\n",
        "  max_score_index = np.argmax(avg_score)\n",
        "  # print (max_score_index)\n",
        "  best_depth[n_estimate] = max_depth[int(max_score_index)]\n",
        "\n",
        "print ('maximum depth = ', best_depth)"
      ],
      "execution_count": null,
      "outputs": [
        {
          "output_type": "stream",
          "name": "stdout",
          "text": [
            "maximum depth [ 2.  3.  5.  6.  7.  9. 10. 11.]\n",
            "maximum depth =  {5: 5.0, 10: 5.0, 50: 6.0, 100: 6.0, 150: 7.0, 200: 6.0}\n"
          ]
        }
      ]
    },
    {
      "cell_type": "code",
      "metadata": {
        "colab": {
          "base_uri": "https://localhost:8080/"
        },
        "id": "xhtfELht4uV8",
        "outputId": "fce50d81-2ffa-42ae-9ab8-4b82bc668d00"
      },
      "source": [
        "## Now let's find the number of estimators\n",
        "avg_score = np.zeros(len(estimators))\n",
        "# print (estimators)\n",
        "for n_estimate in estimators:\n",
        "    depth = best_depth[n_estimate]\n",
        "    clf_rf = RandomForestClassifier(n_estimators = n_estimate,max_depth = depth,  random_state=0)\n",
        "    scores = cross_val_score(clf_rf, train_X, train_y, cv=cv_k) \n",
        "    avg_score[estimators.index(n_estimate)] = np.mean(scores)\n",
        "\n",
        "print ('avg score =',avg_score)\n",
        "max_score_index = np.argmax(avg_score)\n",
        "best_estimator = estimators[max_score_index]\n",
        "best_max_depth = best_depth[best_estimator]\n",
        "print ('Number of estimators = ',best_estimator)\n",
        "print ('maximum depth =',best_max_depth)"
      ],
      "execution_count": null,
      "outputs": [
        {
          "output_type": "stream",
          "name": "stdout",
          "text": [
            "avg score = [0.95384615 0.95384615 0.96703297 0.96483516 0.96043956 0.96043956]\n",
            "Number of estimators =  50\n",
            "maximum depth = 6.0\n"
          ]
        }
      ]
    },
    {
      "cell_type": "code",
      "metadata": {
        "colab": {
          "base_uri": "https://localhost:8080/"
        },
        "id": "OO_-HK10fB70",
        "outputId": "f932b7be-d053-4b05-ba46-c90fad22abfa"
      },
      "source": [
        "# train and test accuracy using random forest classifier\n",
        "from sklearn.metrics import accuracy_score\n",
        "clf_rf = RandomForestClassifier(n_estimators = best_estimator,max_depth = best_max_depth,  random_state=0)\n",
        "clf_model = clf_rf.fit(train_X, train_y)\n",
        "train_y_predicted = clf_model.predict(train_X)\n",
        "train_acc_rf = accuracy_score(train_y, train_y_predicted)\n",
        "test_y_predicted = clf_model.predict(test_X)\n",
        "test_acc_rf = accuracy_score(test_y, test_y_predicted)\n",
        "print('train accuracy from Random forest:', train_acc_rf)\n",
        "print('test accuracy from Random forest:', test_acc_rf)\n",
        "\n"
      ],
      "execution_count": null,
      "outputs": [
        {
          "output_type": "stream",
          "name": "stdout",
          "text": [
            "train accuracy from Random forest: 0.9934065934065934\n",
            "test accuracy from Random forest: 0.9210526315789473\n"
          ]
        }
      ]
    },
    {
      "cell_type": "markdown",
      "metadata": {
        "id": "_s2bL0MH-bkA"
      },
      "source": [
        "Let's now compare the performance of random forest classifier with decision tree"
      ]
    },
    {
      "cell_type": "code",
      "metadata": {
        "id": "douKORyGQS7U",
        "colab": {
          "base_uri": "https://localhost:8080/"
        },
        "outputId": "e2067343-02b4-489e-ab76-04db76d6a517"
      },
      "source": [
        "## We will first find the appropriate max depth of decision tree using cross validation.\n",
        "from sklearn import tree #decision tree from scikit learn \n",
        "\n",
        "avg_score = np.zeros(len(max_depth))\n",
        "for depth in max_depth:\n",
        "    clf = tree.DecisionTreeClassifier(criterion='entropy',max_depth=depth)\n",
        "    scores = cross_val_score(clf, train_X, train_y, cv=cv_k) \n",
        "    avg_score[np.where(max_depth == depth)] = np.mean(scores)\n",
        "\n",
        "print ('avg score =',avg_score)\n",
        "max_score_index = np.argmax(avg_score)\n",
        "best_max_depth = max_depth[max_score_index]\n",
        "print ('maximum depth =',best_max_depth)"
      ],
      "execution_count": null,
      "outputs": [
        {
          "output_type": "stream",
          "name": "stdout",
          "text": [
            "avg score = [0.91868132 0.93186813 0.92967033 0.94065934 0.93846154 0.93406593\n",
            " 0.93846154 0.93846154]\n",
            "maximum depth = 6.0\n"
          ]
        }
      ]
    },
    {
      "cell_type": "code",
      "metadata": {
        "colab": {
          "base_uri": "https://localhost:8080/"
        },
        "id": "H7Owl2aGASUM",
        "outputId": "cbabae22-d86b-4dd2-c65d-bdcc084c2832"
      },
      "source": [
        "# train and test accuracy using decision tree\n",
        "\n",
        "clf = tree.DecisionTreeClassifier(criterion='entropy',max_depth=best_max_depth)\n",
        "clf_model = clf.fit(train_X, train_y)\n",
        "train_y_predicted = clf_model.predict(train_X)\n",
        "train_acc = accuracy_score(train_y, train_y_predicted)\n",
        "test_y_predicted = clf_model.predict(test_X)\n",
        "test_acc = accuracy_score(test_y, test_y_predicted)\n",
        "print('train accuracy from decision tree:', train_acc)\n",
        "print('test accuracy from decision tree:', test_acc)\n",
        "print ('##############')\n",
        "print('train accuracy from Random forest:', train_acc_rf)\n",
        "print('test accuracy from Random forest:', test_acc_rf)"
      ],
      "execution_count": null,
      "outputs": [
        {
          "output_type": "stream",
          "name": "stdout",
          "text": [
            "train accuracy from decision tree: 1.0\n",
            "test accuracy from decision tree: 0.9035087719298246\n",
            "##############\n",
            "train accuracy from Random forest: 0.9934065934065934\n",
            "test accuracy from Random forest: 0.9210526315789473\n"
          ]
        }
      ]
    }
  ]
}
