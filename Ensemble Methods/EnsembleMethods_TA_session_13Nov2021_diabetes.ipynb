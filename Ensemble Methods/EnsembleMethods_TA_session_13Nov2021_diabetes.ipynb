{
  "nbformat": 4,
  "nbformat_minor": 0,
  "metadata": {
    "colab": {
      "name": "EnsembleMethods_TA_session_13Nov2021_diabetes.ipynb",
      "provenance": [],
      "collapsed_sections": [],
      "include_colab_link": true
    },
    "kernelspec": {
      "name": "python3",
      "display_name": "Python 3"
    },
    "language_info": {
      "name": "python"
    }
  },
  "cells": [
    {
      "cell_type": "markdown",
      "metadata": {
        "id": "view-in-github",
        "colab_type": "text"
      },
      "source": [
        "<a href=\"https://colab.research.google.com/github/balamurugan-palaniappan-CEP/AIML_CEP_2021/blob/main/Ensemble%20Methods/EnsembleMethods_TA_session_13Nov2021_diabetes.ipynb\" target=\"_parent\"><img src=\"https://colab.research.google.com/assets/colab-badge.svg\" alt=\"Open In Colab\"/></a>"
      ]
    },
    {
      "cell_type": "markdown",
      "metadata": {
        "id": "gfH3ez32gU_E"
      },
      "source": [
        "$\\Large{\\text{Ensemble methods}}$ "
      ]
    },
    {
      "cell_type": "code",
      "metadata": {
        "id": "J5c_jPIZ82v7"
      },
      "source": [
        "import numpy as np #numpy package will be useful for most of the array operations in the code \n",
        "# from sklearn.datasets import load_wine"
      ],
      "execution_count": null,
      "outputs": []
    },
    {
      "cell_type": "code",
      "metadata": {
        "id": "SdgUbB9IqDC9"
      },
      "source": [
        "\"\"\"\n",
        "Loading data set\n",
        "\"\"\"\n",
        "from sklearn.datasets import load_svmlight_file\n",
        "\n",
        "myfeature, y = load_svmlight_file('diabetes')\n",
        "\n",
        "\"\"\"\n",
        "converting sparse matrix myfeature (which is in tuple form) to a dense matrix\n",
        "\"\"\"\n",
        "\n",
        "X = myfeature.todense()\n",
        "X = np.array(X)\n",
        "# print (y)\n",
        "# print (X[0])"
      ],
      "execution_count": null,
      "outputs": []
    },
    {
      "cell_type": "code",
      "metadata": {
        "id": "W3QIaxSxN3uZ",
        "colab": {
          "base_uri": "https://localhost:8080/"
        },
        "outputId": "df5c998d-a634-48a3-baf7-2cf6335881ee"
      },
      "source": [
        "#Let us print the contents of the X_y variable \n",
        "\n",
        "print(type(X))\n",
        "# print(X_y)"
      ],
      "execution_count": null,
      "outputs": [
        {
          "output_type": "stream",
          "name": "stdout",
          "text": [
            "<class 'numpy.ndarray'>\n"
          ]
        }
      ]
    },
    {
      "cell_type": "code",
      "metadata": {
        "id": "B5iDyIymN7Mg",
        "colab": {
          "base_uri": "https://localhost:8080/"
        },
        "outputId": "ff594791-66bd-4560-de55-155ca4132fac"
      },
      "source": [
        "#So we found that the X_y variable is of type sklearn.utils.bunch\n",
        "#further, we see that the X_y variable consists of dictionary-type structures named \"data\",  \"target\" and \"target_names\"\n",
        "\n",
        "# Let us now segregate the data attributes and class labels into separate variables \n",
        "\n",
        "# X = X_y.data\n",
        "# y = X_y.target\n",
        "\n",
        "print('X shape:', X.shape, 'type(X):', type(X) )\n",
        "print(' y shape:', y.shape, ' type(y):', type(y))"
      ],
      "execution_count": null,
      "outputs": [
        {
          "output_type": "stream",
          "name": "stdout",
          "text": [
            "X shape: (768, 8) type(X): <class 'numpy.ndarray'>\n",
            " y shape: (768,)  type(y): <class 'numpy.ndarray'>\n"
          ]
        }
      ]
    },
    {
      "cell_type": "code",
      "metadata": {
        "id": "O4KxppCQN_Pr",
        "colab": {
          "base_uri": "https://localhost:8080/"
        },
        "outputId": "31d09736-f486-48ba-dc0e-292b6a465bd6"
      },
      "source": [
        "#Thus we see that X and y are numpy ndarrays. \n",
        "#We can print the unique labels available in y \n",
        "print(np.unique(y))\n",
        "# print (y)"
      ],
      "execution_count": null,
      "outputs": [
        {
          "output_type": "stream",
          "name": "stdout",
          "text": [
            "[-1.  1.]\n"
          ]
        }
      ]
    },
    {
      "cell_type": "markdown",
      "metadata": {
        "id": "0hl33pubBLXT"
      },
      "source": [
        "Consider an input space $\\mathcal{X} \\subseteq {\\mathbb{R}}^d$ and the output space $\\mathcal{Y} = \\{+1,-1\\}$. Assume a fixed (but unknown) distribution $P(X,Y)$ over $\\mathcal{X} \\times \\mathcal{Y}$. \n",
        "\n",
        "Let us assume that there are 15 base classifiers $C_1, C_2, \\ldots, C_{15},$ where each classifier has an error rate of $\\epsilon = 0.25$ on some sample from a fixed data distribution $P(X,Y)$. \n",
        "\n",
        "To predict the label for a test sample $\\hat{x}$, we adopt the following inference procedure (called $\\textbf{Ensemble Classifier}(\\textbf{EC})$):\n",
        "\n",
        "1.   Predict $C_i(\\hat{x})$ using each classifier $C_i, \\ i \\in \\{1,2,\\ldots,15\\}$.\n",
        "2.   Predict the final label $\\hat{y} = \\arg\\max_{y \\in \\mathcal{Y}} \\sum_{i=1}^{15} \\delta(y==C_i(\\hat{x}))$ where $\\delta(p)$ is the indicator function given by:\n",
        "\n",
        "  $\n",
        "  \\delta(p) = \n",
        "  \\begin{cases}\n",
        "  1 \\text{ if } p \\text{ is true. } \\\\ \n",
        "  0 \\text{ if } p \\text{ is false. }  \n",
        "  \\end{cases}\n",
        "  $\n",
        "\n",
        "\n",
        "\n",
        "$\\textbf{Question:}$ What would be error rate of the classifier obtained from the above inference algorithm $\\textbf{EC}$? "
      ]
    },
    {
      "cell_type": "markdown",
      "metadata": {
        "id": "aaENz3hYEWrn"
      },
      "source": [
        "$\\textbf{One possible answer:}$\n",
        "\n",
        "Suppose the classifiers are assumed to be independent, then the $\\textbf{EC}$ classifier would make an error only when more than half of the classifiers (i.e. more than 7 classifiers) make error in the prediction. Hence  we may write the error rate of $\\textbf{EC}$ as:\n",
        "\n",
        "$\n",
        "\\begin{align}\n",
        "\\text{error}_{\\textbf{EC}} = \\sum_{i=8}^{15} \\begin{pmatrix} 15 \\\\  i \\end{pmatrix} {\\epsilon}^{i} (1-\\epsilon)^{15-i} \n",
        "\\end{align}\n",
        "$\n",
        "\n",
        "which is approximately $0.017$. Note that this error rate is considerably smaller than the individual error rates of the classifiers. "
      ]
    },
    {
      "cell_type": "code",
      "metadata": {
        "id": "o2sIAgVOJiyr",
        "colab": {
          "base_uri": "https://localhost:8080/",
          "height": 296
        },
        "outputId": "e6d7b595-112e-4fc1-e8e3-78cf996b5fe3"
      },
      "source": [
        "#compute the error rates of EC for different error rates of C_i\n",
        "import math \n",
        "import matplotlib.pyplot as plt\n",
        "\n",
        "def comb(n, k):\n",
        "    return math.factorial(n) // math.factorial(k) // math.factorial(n - k)\n",
        "\n",
        "\n",
        "epsilons = np.linspace(0,1,11)\n",
        "errors = np.zeros(epsilons.shape)\n",
        "\n",
        "num_classifiers = 15\n",
        "eps_idx=0\n",
        "for epsilon in epsilons:\n",
        "  error_EC = 0\n",
        "  for j in np.arange(np.ceil(num_classifiers/2),num_classifiers+1):\n",
        "    err = comb(num_classifiers,j)*math.pow(epsilon,j)*math.pow(1-epsilon,num_classifiers-j)\n",
        "    error_EC += err\n",
        "  errors[eps_idx] = error_EC\n",
        "  eps_idx+=1 \n",
        "\n",
        "\n",
        "figure, ax = plt.subplots(1) \n",
        "\n",
        "plt.plot(epsilons, errors, marker='o')\n",
        "ax.set_xlabel('$\\epsilon$')\n",
        "ax.set_ylabel('$Error_{EC}$')\n",
        "ax.set_xlim(0, 1)\n",
        "ax.set_ylim(errors.min()-0.1,errors.max()+0.1)\n",
        "ax.set_xticks(epsilons)\n",
        "ax.set_yticks(np.linspace(0,1,11))\n",
        "ax.set_title('Error rate of Ensemble Classifier vs $\\epsilon$')\n",
        "plt.show()\n"
      ],
      "execution_count": null,
      "outputs": [
        {
          "output_type": "display_data",
          "data": {
            "image/png": "[encoded data removed]",
            "text/plain": [
              "<Figure size 432x288 with 1 Axes>"
            ]
          },
          "metadata": {
            "needs_background": "light"
          }
        }
      ]
    },
    {
      "cell_type": "markdown",
      "metadata": {
        "id": "7grX2yxiONby"
      },
      "source": [
        "$\\textbf{Important to note:}$ \n",
        "\n",
        "\n",
        "\n",
        "1.   The base classifiers $C_1, C_2, \\ldots, C_{15}$ are assumed to be independent. \n",
        "2.   The error rate $\\epsilon$ of each base classifier must be less than $0.5$ for the ensemble classifier to behave better. $\\textbf{What is meant by a base classifier having an error rate less than } 0.5$?\n",
        "\n"
      ]
    },
    {
      "cell_type": "markdown",
      "metadata": {
        "id": "u4dNY5VdTC2O"
      },
      "source": [
        "$\\large{\\text{Ways of building an ensemble classifier}}$\n",
        "\n",
        "$\\textbf{Create multiple data partitions from training data}$\n",
        "\n",
        "1.   Resample the original training data $D$ (using sampling with replacement) and create different data paritions $D_1, D_2, \\ldots, D_M$. \n",
        "2.   Train different classifiers $C_i$ on respective data partition $D_i$, $i \\in \\{1,2,\\ldots,M\\}$.\n",
        "3.   For a test data point $\\hat{x}$ predict the label $\\hat{y}=\\text{MajorityVote}(C_1(\\hat{x}),C_2(\\hat{x}), \\ldots, C_M(\\hat{x}))$.  \n",
        "\n",
        "\n",
        "\n",
        "\n",
        "\n"
      ]
    },
    {
      "cell_type": "code",
      "metadata": {
        "id": "OVeI1P5_V7dm",
        "colab": {
          "base_uri": "https://localhost:8080/",
          "height": 913
        },
        "outputId": "70d5d843-7613-4cee-aa29-0421f44bb057"
      },
      "source": [
        "from urllib.request import urlopen\n",
        "from PIL import Image\n",
        "\n",
        "img = Image.open(urlopen('https://github.com/balamurugan-palaniappan-CEP/AIML_CEP_2021/raw/main/images/ensemble_classifier.png'))\n",
        "img"
      ],
      "execution_count": null,
      "outputs": [
        {
          "output_type": "execute_result",
          "data": {
            "image/png": "[encoded data removed]",
            "text/plain": [
              "<PIL.PngImagePlugin.PngImageFile image mode=RGB size=858x896 at 0x7FC18F2F78D0>"
            ]
          },
          "metadata": {},
          "execution_count": 131
        }
      ]
    },
    {
      "cell_type": "code",
      "metadata": {
        "id": "S9by3ooWWvsy"
      },
      "source": [
        "np.random.seed(1000)\n",
        "#Create an index array \n",
        "num_samples = X.shape[0]\n",
        "# print (num_samples)\n",
        "indexarr = np.arange(num_samples) #index array\n",
        "np.random.shuffle(indexarr) #shuffle the indices \n",
        "#print('shuffled indices of samples:')\n",
        "#print(indexarr)"
      ],
      "execution_count": null,
      "outputs": []
    },
    {
      "cell_type": "code",
      "metadata": {
        "id": "9uPT5KOvWycn",
        "colab": {
          "base_uri": "https://localhost:8080/"
        },
        "outputId": "ec052134-b70b-4daa-e39e-ee1e1aa56f10"
      },
      "source": [
        "#Use the samples corresponding to first 60% of indexarr for training \n",
        "num_train = int(0.8*num_samples)\n",
        "#Use the remaining 20% samples for testing \n",
        "num_test = num_samples-num_train\n",
        "print('num_train: ',num_train, 'num_test: ', num_test)"
      ],
      "execution_count": null,
      "outputs": [
        {
          "output_type": "stream",
          "name": "stdout",
          "text": [
            "num_train:  614 num_test:  154\n"
          ]
        }
      ]
    },
    {
      "cell_type": "code",
      "metadata": {
        "id": "0mZ6_O4jW01e",
        "colab": {
          "base_uri": "https://localhost:8080/"
        },
        "outputId": "390e0f52-50a3-4072-c650-2459ad2e0311"
      },
      "source": [
        "#Use the first 80% of indexarr to create the train data features and train labels \n",
        "train_X = X[indexarr[0:num_train]]\n",
        "train_y = y[indexarr[0:num_train]]\n",
        "print('shape of train data features:')\n",
        "print(train_X.shape)\n",
        "print('shape of train data labels')\n",
        "print(train_y.shape)"
      ],
      "execution_count": null,
      "outputs": [
        {
          "output_type": "stream",
          "name": "stdout",
          "text": [
            "shape of train data features:\n",
            "(614, 8)\n",
            "shape of train data labels\n",
            "(614,)\n"
          ]
        }
      ]
    },
    {
      "cell_type": "code",
      "metadata": {
        "id": "M79SAdaEW3KD",
        "colab": {
          "base_uri": "https://localhost:8080/"
        },
        "outputId": "1b107231-49cd-4491-cdc2-a720a077e45a"
      },
      "source": [
        "#Use remaining 20% of indexarr to create the test data and test labels  \n",
        "test_X = X[indexarr[num_train:num_samples]]\n",
        "test_y = y[indexarr[num_train:num_samples]]\n",
        "print('shape of test data features:')\n",
        "print(test_X.shape)\n",
        "print('shape of test data labels')\n",
        "print(test_y.shape)"
      ],
      "execution_count": null,
      "outputs": [
        {
          "output_type": "stream",
          "name": "stdout",
          "text": [
            "shape of test data features:\n",
            "(154, 8)\n",
            "shape of test data labels\n",
            "(154,)\n"
          ]
        }
      ]
    },
    {
      "cell_type": "code",
      "metadata": {
        "id": "vY_mFzGtip_u",
        "colab": {
          "base_uri": "https://localhost:8080/"
        },
        "outputId": "4c0f48bc-40f8-4bce-f2cd-dd04b83e81cc"
      },
      "source": [
        "#Let us now use five different base classifiers \n",
        "from sklearn.svm import LinearSVC #import linear SVM\n",
        "from sklearn.neighbors import KNeighborsClassifier\n",
        "from sklearn import tree #decision tree from scikit learn \n",
        "from sklearn.svm import SVC\n",
        "from sklearn.linear_model import LogisticRegression\n",
        "# creating an object of LogisticRegression class\n",
        "\n",
        "clf_list = [] \n",
        "\n",
        "clf_linearsvc = LinearSVC(C=0.01)\n",
        "clf_neigh = KNeighborsClassifier(n_neighbors=3, metric='manhattan') #weights='uniform' (default) or 'distance'\n",
        "clf_svc = SVC(kernel='rbf', gamma=0.01)\n",
        "clf_tree = tree.DecisionTreeClassifier(criterion='gini')\n",
        "clf_logit = LogisticRegression(C=1.0) # C is set to be large number in order to remove the inbuilt regularization \n",
        "\n",
        "clf_list.append(clf_linearsvc)\n",
        "clf_list.append(clf_neigh)\n",
        "clf_list.append(clf_svc)\n",
        "clf_list.append(clf_tree)\n",
        "clf_list.append(clf_logit)\n",
        "\n",
        "clf_names = ['Linear SVM','Nearest Neighbors', 'Kernel SVM','Decision Tree','Logistic Regression']\n",
        "num_classifiers = 5\n",
        "\n",
        "\n",
        "for i in range(num_classifiers):\n",
        "  print('classifier:',clf_list[i])\n",
        "  indexarr = np.arange(train_X.shape[0]) #index array for train data\n",
        "  np.random.shuffle(indexarr) #shuffle the indices \n",
        "  #we shall choose 70% of the data\n",
        "  partition_prop = 0.7\n",
        "  num_samples_partition = int(partition_prop*train_X.shape[0])\n",
        "\n",
        "  X_partition = train_X[indexarr[0:num_samples_partition]]\n",
        "  y_partition = train_y[indexarr[0:num_samples_partition]]\n",
        "\n",
        "  base_clf = clf_list[i] \n",
        "  base_clf_model = base_clf.fit(X_partition,y_partition.ravel())\n",
        "\n",
        "\n",
        "  #test accuracy\n",
        "  from sklearn.metrics import accuracy_score\n",
        "  test_y_predicted = base_clf_model.predict(test_X)\n",
        "  test_acc = accuracy_score(test_y, test_y_predicted)\n",
        "  print('test accuracy from classifier:',clf_names[i],' is:', test_acc)\n",
        "\n",
        "  if i == 0:\n",
        "    test_pred_all_clf = base_clf_model.predict(test_X)\n",
        "\n",
        "  elif i ==1:\n",
        "    test_pred_all_clf = np.column_stack( (test_pred_all_clf,test_y_predicted) )\n",
        "\n",
        "  elif i==2:\n",
        "    test_pred_all_clf = np.column_stack( (test_pred_all_clf,test_y_predicted) )\n",
        "  \n",
        "  elif i ==3:\n",
        "    test_pred_all_clf = np.column_stack( (test_pred_all_clf,test_y_predicted) )\n",
        "\n",
        "  elif i ==4:\n",
        "    test_pred_all_clf = np.column_stack( (test_pred_all_clf,test_y_predicted) )\n"
      ],
      "execution_count": null,
      "outputs": [
        {
          "output_type": "stream",
          "name": "stdout",
          "text": [
            "classifier: LinearSVC(C=0.01, class_weight=None, dual=True, fit_intercept=True,\n",
            "          intercept_scaling=1, loss='squared_hinge', max_iter=1000,\n",
            "          multi_class='ovr', penalty='l2', random_state=None, tol=0.0001,\n",
            "          verbose=0)\n",
            "test accuracy from classifier: Linear SVM  is: 0.7077922077922078\n",
            "classifier: KNeighborsClassifier(algorithm='auto', leaf_size=30, metric='manhattan',\n",
            "                     metric_params=None, n_jobs=None, n_neighbors=3, p=2,\n",
            "                     weights='uniform')\n",
            "test accuracy from classifier: Nearest Neighbors  is: 0.6753246753246753\n",
            "classifier: SVC(C=1.0, break_ties=False, cache_size=200, class_weight=None, coef0=0.0,\n",
            "    decision_function_shape='ovr', degree=3, gamma=0.01, kernel='rbf',\n",
            "    max_iter=-1, probability=False, random_state=None, shrinking=True,\n",
            "    tol=0.001, verbose=False)\n",
            "test accuracy from classifier: Kernel SVM  is: 0.6428571428571429\n",
            "classifier: DecisionTreeClassifier(ccp_alpha=0.0, class_weight=None, criterion='gini',\n",
            "                       max_depth=None, max_features=None, max_leaf_nodes=None,\n",
            "                       min_impurity_decrease=0.0, min_impurity_split=None,\n",
            "                       min_samples_leaf=1, min_samples_split=2,\n",
            "                       min_weight_fraction_leaf=0.0, presort='deprecated',\n",
            "                       random_state=None, splitter='best')\n",
            "test accuracy from classifier: Decision Tree  is: 0.6363636363636364\n",
            "classifier: LogisticRegression(C=1.0, class_weight=None, dual=False, fit_intercept=True,\n",
            "                   intercept_scaling=1, l1_ratio=None, max_iter=100,\n",
            "                   multi_class='auto', n_jobs=None, penalty='l2',\n",
            "                   random_state=None, solver='lbfgs', tol=0.0001, verbose=0,\n",
            "                   warm_start=False)\n",
            "test accuracy from classifier: Logistic Regression  is: 0.7532467532467533\n"
          ]
        },
        {
          "output_type": "stream",
          "name": "stderr",
          "text": [
            "/usr/local/lib/python3.7/dist-packages/sklearn/svm/_base.py:947: ConvergenceWarning: Liblinear failed to converge, increase the number of iterations.\n",
            "  \"the number of iterations.\", ConvergenceWarning)\n",
            "/usr/local/lib/python3.7/dist-packages/sklearn/linear_model/_logistic.py:940: ConvergenceWarning: lbfgs failed to converge (status=1):\n",
            "STOP: TOTAL NO. of ITERATIONS REACHED LIMIT.\n",
            "\n",
            "Increase the number of iterations (max_iter) or scale the data as shown in:\n",
            "    https://scikit-learn.org/stable/modules/preprocessing.html\n",
            "Please also refer to the documentation for alternative solver options:\n",
            "    https://scikit-learn.org/stable/modules/linear_model.html#logistic-regression\n",
            "  extra_warning_msg=_LOGISTIC_SOLVER_CONVERGENCE_MSG)\n"
          ]
        }
      ]
    },
    {
      "cell_type": "code",
      "metadata": {
        "id": "ZfdDPeOBiv4O",
        "colab": {
          "base_uri": "https://localhost:8080/"
        },
        "outputId": "4fa70924-4e81-4fc0-8a62-5e98f8186db9"
      },
      "source": [
        "test_pred_all_clf = np.array(test_pred_all_clf)\n",
        "print(test_pred_all_clf.shape)"
      ],
      "execution_count": null,
      "outputs": [
        {
          "output_type": "stream",
          "name": "stdout",
          "text": [
            "(154, 5)\n"
          ]
        }
      ]
    },
    {
      "cell_type": "code",
      "metadata": {
        "colab": {
          "base_uri": "https://localhost:8080/"
        },
        "id": "oHQbbd69O212",
        "outputId": "85baeb8f-af95-4677-9f4d-5b6c5941a822"
      },
      "source": [
        "## test predictions by 5 base classifiers. The last column contains actual test label. \n",
        "print(np.column_stack( (test_pred_all_clf, test_y)) )"
      ],
      "execution_count": null,
      "outputs": [
        {
          "output_type": "stream",
          "name": "stdout",
          "text": [
            "[[ 1.  1.  1.  1. -1.  1.]\n",
            " [ 1. -1.  1. -1.  1. -1.]\n",
            " [ 1.  1.  1.  1.  1.  1.]\n",
            " [ 1.  1.  1.  1.  1.  1.]\n",
            " [ 1. -1.  1.  1. -1.  1.]\n",
            " [ 1.  1.  1. -1.  1. -1.]\n",
            " [ 1.  1.  1.  1.  1.  1.]\n",
            " [ 1.  1.  1. -1.  1.  1.]\n",
            " [ 1.  1.  1.  1.  1.  1.]\n",
            " [ 1.  1. -1.  1.  1.  1.]\n",
            " [ 1. -1.  1.  1.  1.  1.]\n",
            " [ 1. -1.  1.  1. -1. -1.]\n",
            " [ 1.  1.  1. -1.  1.  1.]\n",
            " [-1. -1. -1. -1. -1.  1.]\n",
            " [ 1.  1.  1.  1.  1. -1.]\n",
            " [ 1.  1.  1.  1.  1.  1.]\n",
            " [ 1.  1.  1. -1.  1.  1.]\n",
            " [ 1.  1.  1. -1.  1.  1.]\n",
            " [ 1.  1.  1.  1.  1.  1.]\n",
            " [ 1.  1.  1.  1.  1.  1.]\n",
            " [ 1.  1.  1.  1.  1.  1.]\n",
            " [-1. -1.  1. -1. -1.  1.]\n",
            " [ 1. -1.  1. -1.  1. -1.]\n",
            " [ 1.  1.  1. -1.  1.  1.]\n",
            " [ 1.  1.  1.  1.  1. -1.]\n",
            " [ 1. -1.  1. -1.  1.  1.]\n",
            " [ 1. -1.  1. -1. -1. -1.]\n",
            " [ 1. -1.  1. -1.  1. -1.]\n",
            " [ 1. -1.  1. -1.  1.  1.]\n",
            " [-1. -1.  1. -1. -1. -1.]\n",
            " [ 1.  1.  1.  1.  1.  1.]\n",
            " [ 1.  1.  1.  1.  1.  1.]\n",
            " [ 1. -1. -1.  1.  1.  1.]\n",
            " [ 1. -1.  1.  1. -1. -1.]\n",
            " [ 1.  1.  1.  1. -1.  1.]\n",
            " [ 1. -1.  1. -1. -1. -1.]\n",
            " [ 1.  1.  1.  1.  1.  1.]\n",
            " [ 1. -1.  1.  1.  1.  1.]\n",
            " [ 1.  1.  1. -1.  1. -1.]\n",
            " [ 1. -1.  1. -1. -1. -1.]\n",
            " [ 1.  1.  1.  1.  1.  1.]\n",
            " [ 1. -1.  1.  1.  1.  1.]\n",
            " [ 1.  1.  1.  1.  1.  1.]\n",
            " [ 1.  1.  1.  1.  1. -1.]\n",
            " [ 1.  1.  1.  1.  1.  1.]\n",
            " [ 1.  1.  1. -1.  1.  1.]\n",
            " [ 1.  1.  1.  1. -1. -1.]\n",
            " [-1.  1.  1.  1. -1. -1.]\n",
            " [ 1.  1.  1.  1.  1. -1.]\n",
            " [ 1.  1.  1. -1.  1.  1.]\n",
            " [ 1. -1.  1.  1. -1.  1.]\n",
            " [ 1. -1.  1. -1. -1. -1.]\n",
            " [ 1.  1.  1.  1.  1.  1.]\n",
            " [ 1. -1.  1.  1.  1.  1.]\n",
            " [ 1. -1.  1. -1. -1.  1.]\n",
            " [-1. -1.  1. -1. -1. -1.]\n",
            " [ 1.  1.  1.  1.  1. -1.]\n",
            " [ 1.  1.  1.  1.  1.  1.]\n",
            " [ 1. -1.  1. -1. -1.  1.]\n",
            " [ 1.  1.  1.  1.  1.  1.]\n",
            " [ 1.  1.  1.  1.  1.  1.]\n",
            " [ 1.  1.  1.  1.  1. -1.]\n",
            " [ 1. -1. -1. -1. -1.  1.]\n",
            " [ 1.  1.  1.  1.  1.  1.]\n",
            " [ 1.  1.  1. -1.  1.  1.]\n",
            " [ 1.  1.  1.  1.  1.  1.]\n",
            " [-1. -1.  1. -1. -1. -1.]\n",
            " [ 1. -1. -1. -1.  1.  1.]\n",
            " [ 1.  1.  1.  1.  1.  1.]\n",
            " [ 1.  1.  1.  1.  1. -1.]\n",
            " [ 1.  1.  1. -1.  1.  1.]\n",
            " [ 1.  1.  1.  1.  1.  1.]\n",
            " [ 1. -1.  1. -1. -1. -1.]\n",
            " [ 1.  1.  1. -1. -1. -1.]\n",
            " [-1. -1.  1. -1. -1. -1.]\n",
            " [ 1.  1.  1. -1.  1.  1.]\n",
            " [ 1.  1.  1. -1.  1.  1.]\n",
            " [-1. -1.  1. -1. -1. -1.]\n",
            " [ 1.  1.  1.  1. -1.  1.]\n",
            " [ 1.  1.  1. -1.  1. -1.]\n",
            " [-1. -1.  1. -1. -1. -1.]\n",
            " [ 1.  1.  1.  1.  1.  1.]\n",
            " [ 1.  1.  1.  1.  1.  1.]\n",
            " [ 1. -1.  1. -1.  1. -1.]\n",
            " [ 1.  1.  1.  1.  1.  1.]\n",
            " [ 1.  1.  1.  1.  1. -1.]\n",
            " [-1. -1.  1. -1. -1. -1.]\n",
            " [ 1.  1.  1.  1.  1. -1.]\n",
            " [ 1.  1.  1.  1.  1.  1.]\n",
            " [ 1.  1.  1.  1.  1.  1.]\n",
            " [ 1.  1.  1.  1.  1.  1.]\n",
            " [ 1.  1.  1.  1.  1.  1.]\n",
            " [ 1. -1.  1.  1.  1.  1.]\n",
            " [ 1. -1.  1.  1. -1.  1.]\n",
            " [ 1. -1.  1.  1.  1. -1.]\n",
            " [ 1.  1.  1. -1.  1.  1.]\n",
            " [ 1.  1.  1.  1.  1.  1.]\n",
            " [ 1. -1.  1. -1. -1.  1.]\n",
            " [ 1.  1.  1.  1.  1.  1.]\n",
            " [ 1. -1.  1.  1.  1.  1.]\n",
            " [-1.  1. -1.  1. -1. -1.]\n",
            " [ 1.  1.  1.  1.  1.  1.]\n",
            " [ 1.  1.  1.  1.  1.  1.]\n",
            " [ 1.  1.  1.  1.  1.  1.]\n",
            " [ 1.  1.  1.  1.  1.  1.]\n",
            " [ 1.  1.  1.  1. -1.  1.]\n",
            " [ 1.  1.  1. -1.  1.  1.]\n",
            " [ 1.  1.  1.  1. -1. -1.]\n",
            " [ 1.  1.  1. -1.  1.  1.]\n",
            " [ 1. -1.  1. -1. -1. -1.]\n",
            " [-1.  1.  1.  1.  1.  1.]\n",
            " [-1. -1.  1. -1. -1.  1.]\n",
            " [ 1. -1. -1. -1. -1. -1.]\n",
            " [ 1.  1.  1. -1.  1.  1.]\n",
            " [ 1.  1.  1.  1.  1.  1.]\n",
            " [ 1.  1.  1. -1.  1.  1.]\n",
            " [-1. -1. -1. -1. -1. -1.]\n",
            " [ 1. -1.  1. -1. -1. -1.]\n",
            " [ 1.  1.  1.  1.  1.  1.]\n",
            " [ 1.  1.  1.  1.  1.  1.]\n",
            " [ 1. -1. -1. -1.  1.  1.]\n",
            " [ 1.  1.  1.  1.  1.  1.]\n",
            " [ 1.  1.  1.  1. -1. -1.]\n",
            " [ 1. -1.  1.  1.  1.  1.]\n",
            " [ 1.  1.  1.  1.  1. -1.]\n",
            " [ 1.  1.  1.  1.  1.  1.]\n",
            " [ 1. -1.  1.  1.  1.  1.]\n",
            " [ 1.  1.  1.  1.  1.  1.]\n",
            " [ 1. -1.  1.  1.  1. -1.]\n",
            " [ 1.  1.  1.  1.  1.  1.]\n",
            " [ 1.  1.  1.  1.  1.  1.]\n",
            " [ 1. -1.  1. -1. -1.  1.]\n",
            " [-1. -1.  1.  1. -1. -1.]\n",
            " [-1. -1. -1. -1. -1.  1.]\n",
            " [-1. -1.  1. -1. -1.  1.]\n",
            " [ 1.  1.  1.  1. -1. -1.]\n",
            " [ 1. -1.  1. -1. -1. -1.]\n",
            " [ 1. -1.  1. -1. -1.  1.]\n",
            " [ 1.  1.  1. -1. -1. -1.]\n",
            " [ 1.  1.  1.  1.  1.  1.]\n",
            " [ 1.  1.  1.  1. -1. -1.]\n",
            " [ 1. -1. -1.  1.  1. -1.]\n",
            " [-1. -1.  1. -1. -1. -1.]\n",
            " [ 1.  1.  1.  1.  1.  1.]\n",
            " [ 1.  1.  1.  1.  1.  1.]\n",
            " [ 1.  1.  1.  1.  1.  1.]\n",
            " [ 1. -1.  1. -1. -1. -1.]\n",
            " [ 1.  1.  1.  1.  1.  1.]\n",
            " [ 1.  1.  1. -1.  1.  1.]\n",
            " [ 1. -1. -1.  1.  1.  1.]\n",
            " [ 1.  1.  1.  1.  1.  1.]\n",
            " [ 1.  1.  1. -1.  1.  1.]\n",
            " [ 1.  1.  1.  1.  1.  1.]\n",
            " [-1. -1. -1. -1. -1. -1.]]\n"
          ]
        }
      ]
    },
    {
      "cell_type": "code",
      "metadata": {
        "id": "fBaQJbI7i0VX",
        "colab": {
          "base_uri": "https://localhost:8080/"
        },
        "outputId": "f0c8ed22-7e5b-46b3-b551-3bfd16ee46b7"
      },
      "source": [
        "\n",
        "from scipy import stats\n",
        "\n",
        "test_pred_all_clf = test_pred_all_clf.astype(int)\n",
        "\n",
        "test_pred, counts = stats.mode(test_pred_all_clf, axis=1)\n",
        "test_acc = accuracy_score(test_y, test_pred)\n",
        "print('test accuracy from ensemble classifier is:', test_acc)\n",
        "\n",
        "\n"
      ],
      "execution_count": null,
      "outputs": [
        {
          "output_type": "stream",
          "name": "stdout",
          "text": [
            "test accuracy from ensemble classifier is: 0.6883116883116883\n"
          ]
        }
      ]
    },
    {
      "cell_type": "code",
      "metadata": {
        "colab": {
          "base_uri": "https://localhost:8080/"
        },
        "id": "C8yT2eLjt1ND",
        "outputId": "1cd767d5-0a5c-4f09-8679-8ade1b22485f"
      },
      "source": [
        "## creating confusing matrix\n",
        "\n",
        "from sklearn.metrics import confusion_matrix\n",
        "\n",
        "cm = confusion_matrix(test_y, test_pred)\n",
        "print(cm)\n"
      ],
      "execution_count": null,
      "outputs": [
        {
          "output_type": "stream",
          "name": "stdout",
          "text": [
            "[[24 28]\n",
            " [19 83]]\n"
          ]
        }
      ]
    },
    {
      "cell_type": "code",
      "metadata": {
        "colab": {
          "base_uri": "https://localhost:8080/",
          "height": 312
        },
        "id": "ceSyO81wvhj0",
        "outputId": "83d31b56-5857-4a00-c6b2-982debd038c2"
      },
      "source": [
        "#Plotting the confusion matrix for better interpretation\n",
        "import seaborn as sns\n",
        "import matplotlib.pyplot as plt\n",
        "ax = plt.subplot()\n",
        "sns.heatmap(cm, annot=True, fmt='g', ax=ax)\n",
        "# labels, title and ticks\n",
        "ax.set_xlabel('Predicted labels')\n",
        "ax.set_ylabel('True labels')\n",
        "ax.set_title('Confusion Matrix')\n",
        "ax.xaxis.set_ticklabels(['-1', '1'])\n",
        "ax.yaxis.set_ticklabels(['-1', '1'])"
      ],
      "execution_count": null,
      "outputs": [
        {
          "output_type": "execute_result",
          "data": {
            "text/plain": [
              "[Text(0, 0.5, '-1'), Text(0, 1.5, '1')]"
            ]
          },
          "metadata": {},
          "execution_count": 165
        },
        {
          "output_type": "display_data",
          "data": {
            "image/png": "[encoded data removed]",
            "text/plain": [
              "<Figure size 432x288 with 2 Axes>"
            ]
          },
          "metadata": {
            "needs_background": "light"
          }
        }
      ]
    },
    {
      "cell_type": "markdown",
      "metadata": {
        "id": "ApvzhCr20KDq"
      },
      "source": [
        "$\\large{\\text{Ways of building an ensemble classifier}}$\n",
        "\n",
        "$\\textbf{Create multiple attribute partitions from training data}$\n",
        "\n",
        "1.   Resample the attributes from original training data $D$ (using sampling with replacement) and create different feature paritions $F_1, F_2, \\ldots, F_M$. Note that the number of samples in these partitions might be same as that in $D$ or might be different.\n",
        "2.   Train different classifiers $C_i$ on respective feature partition $F_i$, $i \\in \\{1,2,\\ldots,M\\}$.\n",
        "3.   For a test data point $\\hat{x}$ first create feature partitions based on $F_1, F_2, \\ldots, F_M$ and predict the label $\\hat{y}=\\text{MajorityVote}(C_1(F_1(\\hat{x})),C_2(F_2(\\hat{x})), \\ldots, C_M(F_M(\\hat{x})))$.  \n"
      ]
    },
    {
      "cell_type": "code",
      "metadata": {
        "id": "Ty9A7B-B_9Em",
        "colab": {
          "base_uri": "https://localhost:8080/",
          "height": 910
        },
        "outputId": "c2a5d922-6f0d-4812-db73-82ad85023d73"
      },
      "source": [
        "from urllib.request import urlopen\n",
        "from PIL import Image\n",
        "\n",
        "img = Image.open(urlopen('https://github.com/balamurugan-palaniappan-CEP/AIML_CEP_2021/raw/main/images/ensemble_classifier_RF.png'))\n",
        "img"
      ],
      "execution_count": null,
      "outputs": [
        {
          "output_type": "execute_result",
          "data": {
            "image/png": "[encoded data removed]",
            "text/plain": [
              "<PIL.PngImagePlugin.PngImageFile image mode=RGB size=868x893 at 0x7FC18F478310>"
            ]
          },
          "metadata": {},
          "execution_count": 142
        }
      ]
    },
    {
      "cell_type": "code",
      "metadata": {
        "id": "__L7Mp4OeZEs",
        "colab": {
          "base_uri": "https://localhost:8080/"
        },
        "outputId": "cf5cf239-58fb-42da-8906-8347eb57ce28"
      },
      "source": [
        "#Let us now use three different base classifiers and check the decision boundary \n",
        "from sklearn.ensemble import RandomForestClassifier\n",
        "\n",
        "clf_list = [] \n",
        "\n",
        "clf_linearsvc = LinearSVC(C=1.0)\n",
        "clf_neigh = KNeighborsClassifier(n_neighbors=2, metric='manhattan') #weights='uniform' (default) or 'distance'\n",
        "clf_svc = SVC(kernel='rbf', gamma=0.01)\n",
        "# clf_tree = tree.DecisionTreeClassifier(criterion='entropy')\n",
        "clf_rf = RandomForestClassifier(n_estimators = 100,  random_state=0)\n",
        "clf_logit = LogisticRegression(C=1.0) # C is set to be large number in order to remove the inbuilt regularization \n",
        "\n",
        "clf_list.append(clf_linearsvc)\n",
        "clf_list.append(clf_neigh)\n",
        "clf_list.append(clf_svc)\n",
        "clf_list.append(clf_logit)\n",
        "clf_list.append(clf_rf)\n",
        "\n",
        "clf_names = ['Linear SVM','Nearest Neighbors', 'Kernel SVM','Logistic Regression','Random Forest']\n",
        "num_classifiers = 5\n",
        "\n",
        "\n",
        "for i in range(num_classifiers):\n",
        "  print('classifier:',clf_list[i])\n",
        "  indexarr = np.arange(train_X.shape[0]) #index array for train data\n",
        "  np.random.shuffle(indexarr) #shuffle the indices \n",
        "  #we shall choose 70% of the data\n",
        "  partition_prop = 0.7\n",
        "  num_samples_partition = int(partition_prop*train_X.shape[0])\n",
        "\n",
        "  X_partition = train_X[indexarr[0:num_samples_partition]]\n",
        "  y_partition = train_y[indexarr[0:num_samples_partition]]\n",
        "\n",
        "  base_clf = clf_list[i] \n",
        "  base_clf_model = base_clf.fit(X_partition,y_partition.ravel())\n",
        "\n",
        "\n",
        "  #test accuracy\n",
        "  from sklearn.metrics import accuracy_score\n",
        "  test_y_predicted = base_clf_model.predict(test_X)\n",
        "  test_acc = accuracy_score(test_y, test_y_predicted)\n",
        "  print('test accuracy from classifier:',clf_names[i],' is:', test_acc)\n",
        "\n",
        "  if i == 0:\n",
        "    test_pred_all_clf = base_clf_model.predict(test_X)\n",
        "\n",
        "  elif i ==1:\n",
        "    test_pred_all_clf = np.column_stack( (test_pred_all_clf,test_y_predicted) )\n",
        "\n",
        "  elif i==2:\n",
        "    test_pred_all_clf = np.column_stack( (test_pred_all_clf,test_y_predicted) )\n",
        "  \n",
        "  elif i ==3:\n",
        "    test_pred_all_clf = np.column_stack( (test_pred_all_clf,test_y_predicted) )\n",
        "\n",
        "  elif i ==4:\n",
        "    test_pred_all_clf = np.column_stack( (test_pred_all_clf,test_y_predicted) )"
      ],
      "execution_count": null,
      "outputs": [
        {
          "output_type": "stream",
          "name": "stdout",
          "text": [
            "classifier: LinearSVC(C=1.0, class_weight=None, dual=True, fit_intercept=True,\n",
            "          intercept_scaling=1, loss='squared_hinge', max_iter=1000,\n",
            "          multi_class='ovr', penalty='l2', random_state=None, tol=0.0001,\n",
            "          verbose=0)\n",
            "test accuracy from classifier: Linear SVM  is: 0.6818181818181818\n",
            "classifier: KNeighborsClassifier(algorithm='auto', leaf_size=30, metric='manhattan',\n",
            "                     metric_params=None, n_jobs=None, n_neighbors=2, p=2,\n",
            "                     weights='uniform')\n",
            "test accuracy from classifier: Nearest Neighbors  is: 0.6038961038961039\n",
            "classifier: SVC(C=1.0, break_ties=False, cache_size=200, class_weight=None, coef0=0.0,\n",
            "    decision_function_shape='ovr', degree=3, gamma=0.01, kernel='rbf',\n",
            "    max_iter=-1, probability=False, random_state=None, shrinking=True,\n",
            "    tol=0.001, verbose=False)\n",
            "test accuracy from classifier: Kernel SVM  is: 0.6493506493506493\n",
            "classifier: LogisticRegression(C=1.0, class_weight=None, dual=False, fit_intercept=True,\n",
            "                   intercept_scaling=1, l1_ratio=None, max_iter=100,\n",
            "                   multi_class='auto', n_jobs=None, penalty='l2',\n",
            "                   random_state=None, solver='lbfgs', tol=0.0001, verbose=0,\n",
            "                   warm_start=False)\n",
            "test accuracy from classifier: Logistic Regression  is: 0.7012987012987013\n",
            "classifier: RandomForestClassifier(bootstrap=True, ccp_alpha=0.0, class_weight=None,\n",
            "                       criterion='gini', max_depth=None, max_features='auto',\n",
            "                       max_leaf_nodes=None, max_samples=None,\n",
            "                       min_impurity_decrease=0.0, min_impurity_split=None,\n",
            "                       min_samples_leaf=1, min_samples_split=2,\n",
            "                       min_weight_fraction_leaf=0.0, n_estimators=100,\n",
            "                       n_jobs=None, oob_score=False, random_state=0, verbose=0,\n",
            "                       warm_start=False)\n"
          ]
        },
        {
          "output_type": "stream",
          "name": "stderr",
          "text": [
            "/usr/local/lib/python3.7/dist-packages/sklearn/svm/_base.py:947: ConvergenceWarning: Liblinear failed to converge, increase the number of iterations.\n",
            "  \"the number of iterations.\", ConvergenceWarning)\n",
            "/usr/local/lib/python3.7/dist-packages/sklearn/linear_model/_logistic.py:940: ConvergenceWarning: lbfgs failed to converge (status=1):\n",
            "STOP: TOTAL NO. of ITERATIONS REACHED LIMIT.\n",
            "\n",
            "Increase the number of iterations (max_iter) or scale the data as shown in:\n",
            "    https://scikit-learn.org/stable/modules/preprocessing.html\n",
            "Please also refer to the documentation for alternative solver options:\n",
            "    https://scikit-learn.org/stable/modules/linear_model.html#logistic-regression\n",
            "  extra_warning_msg=_LOGISTIC_SOLVER_CONVERGENCE_MSG)\n"
          ]
        },
        {
          "output_type": "stream",
          "name": "stdout",
          "text": [
            "test accuracy from classifier: Random Forest  is: 0.6818181818181818\n"
          ]
        }
      ]
    },
    {
      "cell_type": "code",
      "metadata": {
        "id": "OO_-HK10fB70",
        "colab": {
          "base_uri": "https://localhost:8080/"
        },
        "outputId": "cb49fb5b-6d3d-4068-f098-242be1a1c618"
      },
      "source": [
        "test_pred_all_clf = np.array(test_pred_all_clf)\n",
        "print(test_pred_all_clf.shape)\n",
        "\n",
        "from scipy import stats\n",
        "\n",
        "test_pred_all_clf = test_pred_all_clf.astype(int)\n",
        "\n",
        "test_pred, counts = stats.mode(test_pred_all_clf, axis=1)\n",
        "test_acc = accuracy_score(test_y, test_pred)\n",
        "print('test accuracy from ensemble classifier is:', test_acc)\n",
        "\n"
      ],
      "execution_count": null,
      "outputs": [
        {
          "output_type": "stream",
          "name": "stdout",
          "text": [
            "(154, 5)\n",
            "test accuracy from ensemble classifier is: 0.6883116883116883\n"
          ]
        }
      ]
    },
    {
      "cell_type": "code",
      "metadata": {
        "colab": {
          "base_uri": "https://localhost:8080/"
        },
        "id": "TQm5auLYwBn9",
        "outputId": "4aaa7d6b-c929-4cf9-e178-219d1a0c61bd"
      },
      "source": [
        "## creating confusing matrix\n",
        "\n",
        "from sklearn.metrics import confusion_matrix\n",
        "\n",
        "cm = confusion_matrix(test_y, test_pred)\n",
        "print(cm)\n"
      ],
      "execution_count": null,
      "outputs": [
        {
          "output_type": "stream",
          "name": "stdout",
          "text": [
            "[[25 27]\n",
            " [21 81]]\n"
          ]
        }
      ]
    },
    {
      "cell_type": "code",
      "metadata": {
        "colab": {
          "base_uri": "https://localhost:8080/",
          "height": 312
        },
        "id": "Vqj8JqMFv7dj",
        "outputId": "72ce88a7-7306-4069-a6ad-d55807cd14f0"
      },
      "source": [
        "#Plotting the confusion matrix for better interpretation\n",
        "import seaborn as sns\n",
        "import matplotlib.pyplot as plt\n",
        "ax = plt.subplot()\n",
        "sns.heatmap(cm, annot=True, fmt='g', ax=ax)\n",
        "# labels, title and ticks\n",
        "ax.set_xlabel('Predicted labels')\n",
        "ax.set_ylabel('True labels')\n",
        "ax.set_title('Confusion Matrix')\n",
        "ax.xaxis.set_ticklabels(['-1', '1'])\n",
        "ax.yaxis.set_ticklabels(['-1', '1'])"
      ],
      "execution_count": null,
      "outputs": [
        {
          "output_type": "execute_result",
          "data": {
            "text/plain": [
              "[Text(0, 0.5, '-1'), Text(0, 1.5, '1')]"
            ]
          },
          "metadata": {},
          "execution_count": 171
        },
        {
          "output_type": "display_data",
          "data": {
            "image/png": "[encoded data removed]",
            "text/plain": [
              "<Figure size 432x288 with 2 Axes>"
            ]
          },
          "metadata": {
            "needs_background": "light"
          }
        }
      ]
    },
    {
      "cell_type": "markdown",
      "metadata": {
        "id": "VsLc15imo6FI"
      },
      "source": [
        "#Exercise:\n",
        "Use an ensemble method with classifiers as linear SVMs with different C values (C= 0.1, 0.01, 0.001, 0.0001) to train on diabetes dataset."
      ]
    }
  ]
}